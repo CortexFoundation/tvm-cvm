{
 "cells": [
  {
   "cell_type": "code",
   "execution_count": 1,
   "metadata": {},
   "outputs": [],
   "source": [
    "import mxnet as mx\n",
    "from mxnet import ndarray as nd\n",
    "from mxnet import gluon\n",
    "from mxnet.gluon import nn, SymbolBlock\n",
    "\n",
    "import tvm\n",
    "import nnvm\n",
    "\n",
    "import numpy as np\n",
    "import math\n",
    "import os\n",
    "import json"
   ]
  },
  {
   "cell_type": "code",
   "execution_count": 24,
   "metadata": {},
   "outputs": [
    {
     "name": "stdout",
     "output_type": "stream",
     "text": [
      "['Mobilenetv1.0', 'Resnet50_v2', 'Inception_v3', 'AlexNet', 'Resnet50_v1', 'CVM_mnist', 'Lenet_mnist', 'Sentiment_trec', 'Vgg16', 'Squeezenet_1.0', 'Octconv_resnet26_0.250']\n"
     ]
    }
   ],
   "source": [
    "root = \"/data/chain_models\"\n",
    "models = [ # 'Yolo3_darknet53_voc', \n",
    "          'Mobilenetv1.0', \n",
    "          'Resnet50_v2', \n",
    "          'Inception_v3', \n",
    "          'AlexNet', \n",
    "          'Resnet50_v1', \n",
    "          'CVM_mnist', \n",
    "          'Lenet_mnist', \n",
    "          'Sentiment_trec', \n",
    "          'Vgg16', \n",
    "          'Squeezenet_1.0', \n",
    "          'Octconv_resnet26_0.250']\n",
    "print (models)\n",
    "for model in models:\n",
    "    model_dir = root + \"/\" + model + \"/data\"\n",
    "    sym_file, param_file = model_dir+\"/symbol\", model_dir+\"/params\"\n",
    "    sym_json = json.loads(open(sym_file, \"r\").read())\n",
    "    sym_json[\"postprocess\"] = \"argmax\"\n",
    "    \n",
    "    model_argmax_dir = root + \"/\" + model + \"_argmax/data\"\n",
    "    os.makedirs(model_argmax_dir, exist_ok=True)\n",
    "    sym_argmax_file, param_argmax_file = model_argmax_dir+\"/symbol\", model_argmax_dir+\"/params\"\n",
    "    open(sym_argmax_file, \"w\").write(json.dumps(sym_json, indent=2))\n",
    "    os.system('cp %s %s' % (param_file, param_argmax_file))"
   ]
  },
  {
   "cell_type": "code",
   "execution_count": 22,
   "metadata": {},
   "outputs": [
    {
     "name": "stdout",
     "output_type": "stream",
     "text": [
      "\"/data/chain_models/AlexNet/data\",\n",
      "\"/data/chain_models/AlexNet_argmax/data\",\n",
      "\"/data/chain_models/CVM_mnist/data\",\n",
      "\"/data/chain_models/CVM_mnist_argmax/data\",\n",
      "\"/data/chain_models/Inception_v3/data\",\n",
      "\"/data/chain_models/Inception_v3_argmax/data\",\n",
      "\"/data/chain_models/Lenet_mnist/data\",\n",
      "\"/data/chain_models/Lenet_mnist_argmax/data\",\n",
      "\"/data/chain_models/Mobilenetv1.0/data\",\n",
      "\"/data/chain_models/Mobilenetv1.0_argmax/data\",\n",
      "\"/data/chain_models/Octconv_resnet26_0.250/data\",\n",
      "\"/data/chain_models/Octconv_resnet26_0.250_argmax/data\",\n",
      "\"/data/chain_models/Resnet50_v1/data\",\n",
      "\"/data/chain_models/Resnet50_v1_argmax/data\",\n",
      "\"/data/chain_models/Resnet50_v2/data\",\n",
      "\"/data/chain_models/Resnet50_v2_argmax/data\",\n",
      "\"/data/chain_models/Sentiment_trec/data\",\n",
      "\"/data/chain_models/Sentiment_trec_argmax/data\",\n",
      "\"/data/chain_models/Squeezenet_1.0/data\",\n",
      "\"/data/chain_models/Squeezenet_1.0_argmax/data\",\n",
      "\"/data/chain_models/Vgg16/data\",\n",
      "\"/data/chain_models/Vgg16_argmax/data\",\n",
      "\"/data/chain_models/Yolo3_darknet53_voc/data\",\n"
     ]
    }
   ],
   "source": [
    "for s in ['\"%s/%s/data\"'%(root,n) for n in sorted(os.listdir(root))]:\n",
    "    print (s + \",\")"
   ]
  },
  {
   "cell_type": "code",
   "execution_count": null,
   "metadata": {},
   "outputs": [],
   "source": []
  }
 ],
 "metadata": {
  "kernelspec": {
   "display_name": "Python 3",
   "language": "python",
   "name": "python3"
  },
  "language_info": {
   "codemirror_mode": {
    "name": "ipython",
    "version": 3
   },
   "file_extension": ".py",
   "mimetype": "text/x-python",
   "name": "python",
   "nbconvert_exporter": "python",
   "pygments_lexer": "ipython3",
   "version": "3.6.8"
  }
 },
 "nbformat": 4,
 "nbformat_minor": 2
}
