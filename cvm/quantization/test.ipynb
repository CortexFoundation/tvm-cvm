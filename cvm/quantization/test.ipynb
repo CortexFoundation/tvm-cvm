{
 "cells": [
  {
   "cell_type": "code",
   "execution_count": 11,
   "metadata": {},
   "outputs": [],
   "source": [
    "import mxnet as mx\n",
    "from mxnet import ndarray as nd\n",
    "from mxnet import gluon\n",
    "from mxnet.gluon import nn, SymbolBlock\n",
    "\n",
    "import tvm\n",
    "import nnvm\n",
    "\n",
    "import numpy as np\n",
    "import math\n",
    "import os\n",
    "import json"
   ]
  },
  {
   "cell_type": "code",
   "execution_count": 12,
   "metadata": {},
   "outputs": [],
   "source": [
    "params = nd.load(\"/home/serving/tvm-cvm/data/ssd_512_resnet50_v1_voc.mrt.all.quantize.params\")"
   ]
  },
  {
   "cell_type": "code",
   "execution_count": 23,
   "metadata": {},
   "outputs": [],
   "source": [
    "p = params[\"ssd0_resnetv10_stage1_conv3_batchnorm3_fwd_weight_0\"].asnumpy()"
   ]
  },
  {
   "cell_type": "code",
   "execution_count": 26,
   "metadata": {},
   "outputs": [
    {
     "data": {
      "text/plain": [
       "(256, 64, 1, 1)"
      ]
     },
     "execution_count": 26,
     "metadata": {},
     "output_type": "execute_result"
    }
   ],
   "source": [
    "p.shape"
   ]
  },
  {
   "cell_type": "code",
   "execution_count": 27,
   "metadata": {},
   "outputs": [],
   "source": [
    "b = params[\"ssd0_resnetv10_stage1_conv3_batchnorm3_fwd_bias_0\"].asnumpy()"
   ]
  },
  {
   "cell_type": "code",
   "execution_count": 42,
   "metadata": {},
   "outputs": [],
   "source": [
    "import ops_generator as opg\n",
    "import sym_pass as spass"
   ]
  },
  {
   "cell_type": "code",
   "execution_count": 69,
   "metadata": {},
   "outputs": [],
   "source": [
    "with open(\"/data/wlt/conv2d/a14ffb29ba22cbafd81c8f9729ba3963b49a5bf7/in_0.txt\", \"r\") as fin:\n",
    "    data_str = fin.read()\n",
    "\n",
    "data = opg.txt_npy(data_str)\n",
    "\n",
    "with open(\"/data/wlt/conv2d/a14ffb29ba22cbafd81c8f9729ba3963b49a5bf7/in_1.txt\", \"r\") as fin:\n",
    "    w_str = fin.read()\n",
    "\n",
    "weight = opg.txt_npy(w_str)\n",
    "\n",
    "with open(\"/data/wlt/conv2d/a14ffb29ba22cbafd81c8f9729ba3963b49a5bf7/in_2.txt\", \"r\") as fin:\n",
    "    b_str = fin.read()\n",
    "\n",
    "bias = opg.txt_npy(b_str)\n",
    "\n",
    "with open(\"/data/wlt/conv2d/a14ffb29ba22cbafd81c8f9729ba3963b49a5bf7/attr.txt\", \"r\") as fin:\n",
    "    attr_str = fin.read()\n",
    "\n",
    "attr = eval(attr_str)\n",
    "\n",
    "with open(\"/data/wlt/conv2d/a14ffb29ba22cbafd81c8f9729ba3963b49a5bf7/out_0.txt\", \"r\") as fin:\n",
    "    o_str = fin.read()\n",
    "\n",
    "out = opg.txt_npy(o_str)"
   ]
  },
  {
   "cell_type": "code",
   "execution_count": 65,
   "metadata": {},
   "outputs": [],
   "source": [
    "for k, v in spass.NAME_MAPS.items():\n",
    "    if v in attr:\n",
    "        attr[k] = eval(attr[v])\n",
    "        del attr[v]\n",
    "if 'no_bias' in attr:\n",
    "    attr['no_bias'] = not attr['no_bias']"
   ]
  },
  {
   "cell_type": "code",
   "execution_count": 66,
   "metadata": {},
   "outputs": [
    {
     "data": {
      "text/plain": [
       "dtype('int64')"
      ]
     },
     "execution_count": 66,
     "metadata": {},
     "output_type": "execute_result"
    }
   ],
   "source": [
    "data.dtype"
   ]
  },
  {
   "cell_type": "code",
   "execution_count": 67,
   "metadata": {},
   "outputs": [],
   "source": [
    "tmp = nd.Convolution(nd.array(data, dtype='float32'), \n",
    "                     nd.array(weight, dtype='float32'), \n",
    "                     nd.array(bias, dtype='float32'), \n",
    "                     **attr)"
   ]
  },
  {
   "cell_type": "code",
   "execution_count": 71,
   "metadata": {},
   "outputs": [],
   "source": [
    "a = nd.array([-1.7, -1.5, -1.3, 1.1, 1.5, 1.6])"
   ]
  },
  {
   "cell_type": "code",
   "execution_count": 73,
   "metadata": {},
   "outputs": [
    {
     "data": {
      "text/plain": [
       "-1"
      ]
     },
     "execution_count": 73,
     "metadata": {},
     "output_type": "execute_result"
    }
   ],
   "source": [
    "int(-1.5)"
   ]
  },
  {
   "cell_type": "code",
   "execution_count": null,
   "metadata": {},
   "outputs": [],
   "source": []
  }
 ],
 "metadata": {
  "kernelspec": {
   "display_name": "Python 3",
   "language": "python",
   "name": "python3"
  },
  "language_info": {
   "codemirror_mode": {
    "name": "ipython",
    "version": 3
   },
   "file_extension": ".py",
   "mimetype": "text/x-python",
   "name": "python",
   "nbconvert_exporter": "python",
   "pygments_lexer": "ipython3",
   "version": "3.6.8"
  }
 },
 "nbformat": 4,
 "nbformat_minor": 2
}
