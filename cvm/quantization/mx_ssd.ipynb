{
 "cells": [
  {
   "cell_type": "code",
   "execution_count": 21,
   "metadata": {},
   "outputs": [
    {
     "name": "stdout",
     "output_type": "stream",
     "text": [
      "(1, 8000, 4) \n",
      "[[-0.2375     -0.2375      0.2625      0.2625    ]\n",
      " [-0.1125     -0.1125      0.1375      0.1375    ]\n",
      " [-0.0375     -0.0375      0.0625      0.0625    ]\n",
      " [-0.3410534  -0.16427669  0.36605337  0.1892767 ]\n",
      " [-0.16427669 -0.3410534   0.1892767   0.36605337]\n",
      " [-0.2125     -0.2375      0.2875      0.2625    ]\n",
      " [-0.0875     -0.1125      0.1625      0.1375    ]\n",
      " [-0.0125     -0.0375      0.08750001  0.0625    ]\n",
      " [-0.3160534  -0.16427669  0.39105338  0.1892767 ]\n",
      " [-0.13927668 -0.3410534   0.2142767   0.36605337]]\n",
      "<NDArray 10x4 @cpu(0)>\n",
      "The first anchor box at row 21, column 21: \n",
      "[0.2625 0.2625 0.7625 0.7625]\n",
      "<NDArray 4 @cpu(0)>\n"
     ]
    }
   ],
   "source": [
    "%matplotlib inline\n",
    "import mxnet as mx\n",
    "from mxnet import nd\n",
    "from mxnet.contrib.ndarray import MultiBoxPrior\n",
    "\n",
    "n = 40\n",
    "# shape: batch x channel x height x weight\n",
    "x = nd.random_uniform(shape=(1, 3, n, n))\n",
    "y = MultiBoxPrior(x, sizes=[.5, .25, .1], ratios=[1, 2, .5])\n",
    "\n",
    "# the first anchor box generated for pixel at (20,20)\n",
    "# its format is (x_min, y_min, x_max, y_max)\n",
    "print (y.shape, y[0][:10])\n",
    "boxes = y.reshape((n, n, -1, 4))\n",
    "print('The first anchor box at row 21, column 21:', boxes[20, 20, 0, :])"
   ]
  },
  {
   "cell_type": "code",
   "execution_count": 22,
   "metadata": {},
   "outputs": [
    {
     "data": {
      "image/png": "[encoded data removed]",
      "text/plain": [
       "<Figure size 432x288 with 1 Axes>"
      ]
     },
     "metadata": {
      "needs_background": "light"
     },
     "output_type": "display_data"
    }
   ],
   "source": [
    "import matplotlib.pyplot as plt\n",
    "def box_to_rect(box, color, linewidth=3):\n",
    "    \"\"\"convert an anchor box to a matplotlib rectangle\"\"\"\n",
    "    box = box.asnumpy()\n",
    "    return plt.Rectangle(\n",
    "        (box[0], box[1]), (box[2]-box[0]), (box[3]-box[1]),\n",
    "        fill=False, edgecolor=color, linewidth=linewidth)\n",
    "colors = ['blue', 'green', 'red', 'black', 'magenta']\n",
    "plt.imshow(nd.ones((n, n, 3)).asnumpy())\n",
    "anchors = boxes[20, 20, :, :]\n",
    "for i in range(anchors.shape[0]):\n",
    "    plt.gca().add_patch(box_to_rect(anchors[i,:]*n, colors[i]))\n",
    "plt.show()"
   ]
  },
  {
   "cell_type": "code",
   "execution_count": 23,
   "metadata": {},
   "outputs": [
    {
     "name": "stdout",
     "output_type": "stream",
     "text": [
      "Class prediction (2, 55, 20, 20)\n"
     ]
    }
   ],
   "source": [
    "from mxnet.gluon import nn\n",
    "def class_predictor(num_anchors, num_classes):\n",
    "    \"\"\"return a layer to predict classes\"\"\"\n",
    "    return nn.Conv2D(num_anchors * (num_classes + 1), 3, padding=1)\n",
    "\n",
    "cls_pred = class_predictor(5, 10)\n",
    "cls_pred.initialize()\n",
    "x = nd.zeros((2, 3, 20, 20))\n",
    "print('Class prediction', cls_pred(x).shape)"
   ]
  },
  {
   "cell_type": "code",
   "execution_count": 24,
   "metadata": {},
   "outputs": [
    {
     "name": "stdout",
     "output_type": "stream",
     "text": [
      "Box prediction (2, 40, 20, 20)\n"
     ]
    }
   ],
   "source": [
    "def box_predictor(num_anchors):\n",
    "    \"\"\"return a layer to predict delta locations\"\"\"\n",
    "    return nn.Conv2D(num_anchors * 4, 3, padding=1)\n",
    "\n",
    "box_pred = box_predictor(10)\n",
    "box_pred.initialize()\n",
    "x = nd.zeros((2, 3, 20, 20))\n",
    "print('Box prediction', box_pred(x).shape)"
   ]
  },
  {
   "cell_type": "code",
   "execution_count": 9,
   "metadata": {},
   "outputs": [
    {
     "name": "stdout",
     "output_type": "stream",
     "text": [
      "Before (2, 3, 20, 20) after (2, 10, 10, 10)\n"
     ]
    }
   ],
   "source": [
    "def down_sample(num_filters):\n",
    "    \"\"\"stack two Conv-BatchNorm-Relu blocks and then a pooling layer\n",
    "    to halve the feature size\"\"\"\n",
    "    out = nn.HybridSequential()\n",
    "    for _ in range(2):\n",
    "        out.add(nn.Conv2D(num_filters, 3, strides=1, padding=1))\n",
    "        out.add(nn.BatchNorm(in_channels=num_filters))\n",
    "        out.add(nn.Activation('relu'))\n",
    "    out.add(nn.MaxPool2D(2))\n",
    "    return out\n",
    "\n",
    "blk = down_sample(10)\n",
    "blk.initialize()\n",
    "x = nd.zeros((2, 3, 20, 20))\n",
    "print('Before', x.shape, 'after', blk(x).shape)\n"
   ]
  },
  {
   "cell_type": "code",
   "execution_count": 10,
   "metadata": {},
   "outputs": [
    {
     "name": "stdout",
     "output_type": "stream",
     "text": [
      "Feature map 1 (2, 8, 20, 20)\n",
      "Class prediction for feature map 1 (2, 55, 20, 20)\n",
      "Feature map 2 (2, 16, 10, 10)\n",
      "Class prediction for feature map 2 (2, 33, 10, 10)\n"
     ]
    }
   ],
   "source": [
    "# a certain feature map with 20x20 spatial shape\n",
    "feat1 = nd.zeros((2, 8, 20, 20))\n",
    "print('Feature map 1', feat1.shape)\n",
    "cls_pred1 = class_predictor(5, 10)\n",
    "cls_pred1.initialize()\n",
    "y1 = cls_pred1(feat1)\n",
    "print('Class prediction for feature map 1', y1.shape)\n",
    "# down-sample\n",
    "ds = down_sample(16)\n",
    "ds.initialize()\n",
    "feat2 = ds(feat1)\n",
    "print('Feature map 2', feat2.shape)\n",
    "cls_pred2 = class_predictor(3, 10)\n",
    "cls_pred2.initialize()\n",
    "y2 = cls_pred2(feat2)\n",
    "print('Class prediction for feature map 2', y2.shape)"
   ]
  },
  {
   "cell_type": "code",
   "execution_count": 11,
   "metadata": {},
   "outputs": [
    {
     "name": "stdout",
     "output_type": "stream",
     "text": [
      "Flatten class prediction 1 (2, 22000)\n",
      "Flatten class prediction 2 (2, 3300)\n",
      "Concat class predictions (2, 25300)\n"
     ]
    }
   ],
   "source": [
    "def flatten_prediction(pred):\n",
    "    return nd.flatten(nd.transpose(pred, axes=(0, 2, 3, 1)))\n",
    "\n",
    "def concat_predictions(preds):\n",
    "    return nd.concat(*preds, dim=1)\n",
    "\n",
    "flat_y1 = flatten_prediction(y1)\n",
    "print('Flatten class prediction 1', flat_y1.shape)\n",
    "flat_y2 = flatten_prediction(y2)\n",
    "print('Flatten class prediction 2', flat_y2.shape)\n",
    "print('Concat class predictions', concat_predictions([flat_y1, flat_y2]).shape)"
   ]
  },
  {
   "cell_type": "code",
   "execution_count": 12,
   "metadata": {},
   "outputs": [
    {
     "name": "stdout",
     "output_type": "stream",
     "text": [
      "Body network [(64, 32, 32), (64, 32, 32)]\n"
     ]
    }
   ],
   "source": [
    "from mxnet import gluon\n",
    "def body():\n",
    "    \"\"\"return the body network\"\"\"\n",
    "    out = nn.HybridSequential()\n",
    "    for nfilters in [16, 32, 64]:\n",
    "        out.add(down_sample(nfilters))\n",
    "    return out\n",
    "\n",
    "bnet = body()\n",
    "bnet.initialize()\n",
    "x = nd.zeros((2, 3, 256, 256))\n",
    "print('Body network', [y.shape for y in bnet(x)])"
   ]
  },
  {
   "cell_type": "code",
   "execution_count": 13,
   "metadata": {},
   "outputs": [
    {
     "name": "stdout",
     "output_type": "stream",
     "text": [
      "(HybridSequential(\n",
      "  (0): HybridSequential(\n",
      "    (0): Conv2D(None -> 16, kernel_size=(3, 3), stride=(1, 1), padding=(1, 1))\n",
      "    (1): BatchNorm(axis=1, eps=1e-05, momentum=0.9, fix_gamma=False, use_global_stats=False, in_channels=16)\n",
      "    (2): Activation(relu)\n",
      "    (3): Conv2D(None -> 16, kernel_size=(3, 3), stride=(1, 1), padding=(1, 1))\n",
      "    (4): BatchNorm(axis=1, eps=1e-05, momentum=0.9, fix_gamma=False, use_global_stats=False, in_channels=16)\n",
      "    (5): Activation(relu)\n",
      "    (6): MaxPool2D(size=(2, 2), stride=(2, 2), padding=(0, 0), ceil_mode=False)\n",
      "  )\n",
      "  (1): HybridSequential(\n",
      "    (0): Conv2D(None -> 32, kernel_size=(3, 3), stride=(1, 1), padding=(1, 1))\n",
      "    (1): BatchNorm(axis=1, eps=1e-05, momentum=0.9, fix_gamma=False, use_global_stats=False, in_channels=32)\n",
      "    (2): Activation(relu)\n",
      "    (3): Conv2D(None -> 32, kernel_size=(3, 3), stride=(1, 1), padding=(1, 1))\n",
      "    (4): BatchNorm(axis=1, eps=1e-05, momentum=0.9, fix_gamma=False, use_global_stats=False, in_channels=32)\n",
      "    (5): Activation(relu)\n",
      "    (6): MaxPool2D(size=(2, 2), stride=(2, 2), padding=(0, 0), ceil_mode=False)\n",
      "  )\n",
      "  (2): HybridSequential(\n",
      "    (0): Conv2D(None -> 64, kernel_size=(3, 3), stride=(1, 1), padding=(1, 1))\n",
      "    (1): BatchNorm(axis=1, eps=1e-05, momentum=0.9, fix_gamma=False, use_global_stats=False, in_channels=64)\n",
      "    (2): Activation(relu)\n",
      "    (3): Conv2D(None -> 64, kernel_size=(3, 3), stride=(1, 1), padding=(1, 1))\n",
      "    (4): BatchNorm(axis=1, eps=1e-05, momentum=0.9, fix_gamma=False, use_global_stats=False, in_channels=64)\n",
      "    (5): Activation(relu)\n",
      "    (6): MaxPool2D(size=(2, 2), stride=(2, 2), padding=(0, 0), ceil_mode=False)\n",
      "  )\n",
      "), Sequential(\n",
      "  (0): HybridSequential(\n",
      "    (0): Conv2D(None -> 128, kernel_size=(3, 3), stride=(1, 1), padding=(1, 1))\n",
      "    (1): BatchNorm(axis=1, eps=1e-05, momentum=0.9, fix_gamma=False, use_global_stats=False, in_channels=128)\n",
      "    (2): Activation(relu)\n",
      "    (3): Conv2D(None -> 128, kernel_size=(3, 3), stride=(1, 1), padding=(1, 1))\n",
      "    (4): BatchNorm(axis=1, eps=1e-05, momentum=0.9, fix_gamma=False, use_global_stats=False, in_channels=128)\n",
      "    (5): Activation(relu)\n",
      "    (6): MaxPool2D(size=(2, 2), stride=(2, 2), padding=(0, 0), ceil_mode=False)\n",
      "  )\n",
      "  (1): HybridSequential(\n",
      "    (0): Conv2D(None -> 128, kernel_size=(3, 3), stride=(1, 1), padding=(1, 1))\n",
      "    (1): BatchNorm(axis=1, eps=1e-05, momentum=0.9, fix_gamma=False, use_global_stats=False, in_channels=128)\n",
      "    (2): Activation(relu)\n",
      "    (3): Conv2D(None -> 128, kernel_size=(3, 3), stride=(1, 1), padding=(1, 1))\n",
      "    (4): BatchNorm(axis=1, eps=1e-05, momentum=0.9, fix_gamma=False, use_global_stats=False, in_channels=128)\n",
      "    (5): Activation(relu)\n",
      "    (6): MaxPool2D(size=(2, 2), stride=(2, 2), padding=(0, 0), ceil_mode=False)\n",
      "  )\n",
      "  (2): HybridSequential(\n",
      "    (0): Conv2D(None -> 128, kernel_size=(3, 3), stride=(1, 1), padding=(1, 1))\n",
      "    (1): BatchNorm(axis=1, eps=1e-05, momentum=0.9, fix_gamma=False, use_global_stats=False, in_channels=128)\n",
      "    (2): Activation(relu)\n",
      "    (3): Conv2D(None -> 128, kernel_size=(3, 3), stride=(1, 1), padding=(1, 1))\n",
      "    (4): BatchNorm(axis=1, eps=1e-05, momentum=0.9, fix_gamma=False, use_global_stats=False, in_channels=128)\n",
      "    (5): Activation(relu)\n",
      "    (6): MaxPool2D(size=(2, 2), stride=(2, 2), padding=(0, 0), ceil_mode=False)\n",
      "  )\n",
      "), Sequential(\n",
      "  (0): Conv2D(None -> 15, kernel_size=(3, 3), stride=(1, 1), padding=(1, 1))\n",
      "  (1): Conv2D(None -> 15, kernel_size=(3, 3), stride=(1, 1), padding=(1, 1))\n",
      "  (2): Conv2D(None -> 15, kernel_size=(3, 3), stride=(1, 1), padding=(1, 1))\n",
      "  (3): Conv2D(None -> 15, kernel_size=(3, 3), stride=(1, 1), padding=(1, 1))\n",
      "  (4): Conv2D(None -> 15, kernel_size=(3, 3), stride=(1, 1), padding=(1, 1))\n",
      "), Sequential(\n",
      "  (0): Conv2D(None -> 20, kernel_size=(3, 3), stride=(1, 1), padding=(1, 1))\n",
      "  (1): Conv2D(None -> 20, kernel_size=(3, 3), stride=(1, 1), padding=(1, 1))\n",
      "  (2): Conv2D(None -> 20, kernel_size=(3, 3), stride=(1, 1), padding=(1, 1))\n",
      "  (3): Conv2D(None -> 20, kernel_size=(3, 3), stride=(1, 1), padding=(1, 1))\n",
      "  (4): Conv2D(None -> 20, kernel_size=(3, 3), stride=(1, 1), padding=(1, 1))\n",
      "))\n"
     ]
    }
   ],
   "source": [
    "def toy_ssd_model(num_anchors, num_classes):\n",
    "    \"\"\"return SSD modules\"\"\"\n",
    "    downsamples = nn.Sequential()\n",
    "    class_preds = nn.Sequential()\n",
    "    box_preds = nn.Sequential()\n",
    "\n",
    "    downsamples.add(down_sample(128))\n",
    "    downsamples.add(down_sample(128))\n",
    "    downsamples.add(down_sample(128))\n",
    "\n",
    "    for scale in range(5):\n",
    "        class_preds.add(class_predictor(num_anchors, num_classes))\n",
    "        box_preds.add(box_predictor(num_anchors))\n",
    "\n",
    "    return body(), downsamples, class_preds, box_preds\n",
    "\n",
    "print(toy_ssd_model(5, 2))"
   ]
  },
  {
   "cell_type": "code",
   "execution_count": 14,
   "metadata": {},
   "outputs": [],
   "source": [
    "def toy_ssd_forward(x, body, downsamples, class_preds, box_preds, sizes, ratios):\n",
    "    # extract feature with the body network\n",
    "    x = body(x)\n",
    "\n",
    "    # for each scale, add anchors, box and class predictions,\n",
    "    # then compute the input to next scale\n",
    "    default_anchors = []\n",
    "    predicted_boxes = []\n",
    "    predicted_classes = []\n",
    "\n",
    "    for i in range(5):\n",
    "        default_anchors.append(MultiBoxPrior(x, sizes=sizes[i], ratios=ratios[i]))\n",
    "        predicted_boxes.append(flatten_prediction(box_preds[i](x)))\n",
    "        predicted_classes.append(flatten_prediction(class_preds[i](x)))\n",
    "        if i < 3:\n",
    "            x = downsamples[i](x)\n",
    "        elif i == 3:\n",
    "            # simply use the pooling layer\n",
    "            x = nd.Pooling(x, global_pool=True, pool_type='max', kernel=(4, 4))\n",
    "\n",
    "    return default_anchors, predicted_classes, predicted_boxes"
   ]
  },
  {
   "cell_type": "code",
   "execution_count": 15,
   "metadata": {},
   "outputs": [],
   "source": [
    "from mxnet import gluon\n",
    "class ToySSD(gluon.Block):\n",
    "    def __init__(self, num_classes, **kwargs):\n",
    "        super(ToySSD, self).__init__(**kwargs)\n",
    "        # anchor box sizes for 4 feature scales\n",
    "        self.anchor_sizes = [[.2, .272], [.37, .447], [.54, .619], [.71, .79], [.88, .961]]\n",
    "        # anchor box ratios for 4 feature scales\n",
    "        self.anchor_ratios = [[1, 2, .5]] * 5\n",
    "        self.num_classes = num_classes\n",
    "\n",
    "        with self.name_scope():\n",
    "            self.body, self.downsamples, self.class_preds, self.box_preds = toy_ssd_model(4, num_classes)\n",
    "\n",
    "    def forward(self, x):\n",
    "        default_anchors, predicted_classes, predicted_boxes = toy_ssd_forward(x, self.body, self.downsamples,\n",
    "            self.class_preds, self.box_preds, self.anchor_sizes, self.anchor_ratios)\n",
    "        # we want to concatenate anchors, class predictions, box predictions from different layers\n",
    "        anchors = concat_predictions(default_anchors)\n",
    "        box_preds = concat_predictions(predicted_boxes)\n",
    "        class_preds = concat_predictions(predicted_classes)\n",
    "        # it is better to have class predictions reshaped for softmax computation\n",
    "        class_preds = nd.reshape(class_preds, shape=(0, -1, self.num_classes + 1))\n",
    "\n",
    "        return anchors, class_preds, box_preds"
   ]
  },
  {
   "cell_type": "code",
   "execution_count": 44,
   "metadata": {},
   "outputs": [
    {
     "name": "stdout",
     "output_type": "stream",
     "text": [
      "Outputs: anchors (1, 5444, 4) class prediction (1, 5444, 3) box prediction (1, 21776)\n"
     ]
    }
   ],
   "source": [
    "# instantiate a ToySSD network with 10 classes\n",
    "net = ToySSD(2)\n",
    "net.initialize()\n",
    "x = nd.zeros((1, 3, 256, 256))\n",
    "default_anchors, class_predictions, box_predictions = net(x)\n",
    "print('Outputs:', 'anchors', default_anchors.shape, 'class prediction', class_predictions.shape, 'box prediction', box_predictions.shape)"
   ]
  },
  {
   "cell_type": "code",
   "execution_count": 17,
   "metadata": {},
   "outputs": [
    {
     "name": "stdout",
     "output_type": "stream",
     "text": [
      "Downloading data/pikachu_train.rec https://apache-mxnet.s3-accelerate.amazonaws.com/gluon/dataset/pikachu/train.rec\n",
      "Downloading data/pikachu_train.idx https://apache-mxnet.s3-accelerate.amazonaws.com/gluon/dataset/pikachu/train.idx\n",
      "Downloading data/pikachu_val.rec https://apache-mxnet.s3-accelerate.amazonaws.com/gluon/dataset/pikachu/val.rec\n"
     ]
    }
   ],
   "source": [
    "from mxnet.test_utils import download\n",
    "import os.path as osp\n",
    "def verified(file_path, sha1hash):\n",
    "    import hashlib\n",
    "    sha1 = hashlib.sha1()\n",
    "    with open(file_path, 'rb') as f:\n",
    "        while True:\n",
    "            data = f.read(1048576)\n",
    "            if not data:\n",
    "                break\n",
    "            sha1.update(data)\n",
    "    matched = sha1.hexdigest() == sha1hash\n",
    "    if not matched:\n",
    "        print('Found hash mismatch in file {}, possibly due to incomplete download.'.format(file_path))\n",
    "    return matched\n",
    "\n",
    "url_format = 'https://apache-mxnet.s3-accelerate.amazonaws.com/gluon/dataset/pikachu/{}'\n",
    "hashes = {'train.rec': 'e6bcb6ffba1ac04ff8a9b1115e650af56ee969c8',\n",
    "          'train.idx': 'dcf7318b2602c06428b9988470c731621716c393',\n",
    "          'val.rec': 'd6c33f799b4d058e82f2cb5bd9a976f69d72d520'}\n",
    "for k, v in hashes.items():\n",
    "    fname = 'pikachu_' + k\n",
    "    target = osp.join('data', fname)\n",
    "    url = url_format.format(k)\n",
    "    if not osp.exists(target) or not verified(target, v):\n",
    "        print('Downloading', target, url)\n",
    "        download(url, fname=fname, dirname='data', overwrite=True)"
   ]
  },
  {
   "cell_type": "code",
   "execution_count": 47,
   "metadata": {},
   "outputs": [
    {
     "name": "stdout",
     "output_type": "stream",
     "text": [
      "DataBatch: data shapes: [(32, 3, 256, 256)] label shapes: [(32, 1, 5)]\n"
     ]
    }
   ],
   "source": [
    "import mxnet.image as image\n",
    "data_shape = 256\n",
    "batch_size = 32\n",
    "def get_iterators(data_shape, batch_size):\n",
    "    class_names = ['pikachu']\n",
    "    num_class = len(class_names)\n",
    "    train_iter = image.ImageDetIter(\n",
    "        batch_size=batch_size,\n",
    "        data_shape=(3, data_shape, data_shape),\n",
    "        path_imgrec='./data/pikachu_train.rec',\n",
    "        path_imgidx='./data/pikachu_train.idx',\n",
    "        shuffle=True,\n",
    "        mean=True,\n",
    "        rand_crop=1,\n",
    "        min_object_covered=0.95,\n",
    "        max_attempts=200)\n",
    "    val_iter = image.ImageDetIter(\n",
    "        batch_size=batch_size,\n",
    "        data_shape=(3, data_shape, data_shape),\n",
    "        path_imgrec='./data/pikachu_val.rec',\n",
    "        shuffle=False,\n",
    "        mean=True)\n",
    "    return train_iter, val_iter, class_names, num_class\n",
    "\n",
    "train_data, test_data, class_names, num_class = get_iterators(data_shape, batch_size)\n",
    "batch = train_data.next()\n",
    "print(batch)"
   ]
  },
  {
   "cell_type": "code",
   "execution_count": 48,
   "metadata": {},
   "outputs": [
    {
     "name": "stdout",
     "output_type": "stream",
     "text": [
      "[0.         0.03285503 0.07432109 0.31251958 0.3554075 ]\n"
     ]
    },
    {
     "data": {
      "image/png": "[encoded data removed]",
      "text/plain": [
       "<Figure size 432x288 with 1 Axes>"
      ]
     },
     "metadata": {
      "needs_background": "light"
     },
     "output_type": "display_data"
    }
   ],
   "source": [
    "import numpy as np\n",
    "\n",
    "img = batch.data[0][0].asnumpy()  # grab the first image, convert to numpy array\n",
    "img = img.transpose((1, 2, 0))  # we want channel to be the last dimension\n",
    "img += np.array([123, 117, 104])\n",
    "img = img.astype(np.uint8)  # use uint8 (0-255)\n",
    "# draw bounding boxes on image\n",
    "for label in batch.label[0][0].asnumpy():\n",
    "    if label[0] < 0:\n",
    "        break\n",
    "    print(label)\n",
    "    xmin, ymin, xmax, ymax = [int(x * data_shape) for x in label[1:5]]\n",
    "    rect = plt.Rectangle((xmin, ymin), xmax - xmin, ymax - ymin, fill=False, edgecolor=(1, 0, 0), linewidth=3)\n",
    "    plt.gca().add_patch(rect)\n",
    "plt.imshow(img)\n",
    "plt.show() \n"
   ]
  },
  {
   "cell_type": "code",
   "execution_count": 27,
   "metadata": {},
   "outputs": [],
   "source": [
    "from mxnet.contrib.ndarray import MultiBoxTarget\n",
    "def training_targets(default_anchors, class_predicts, labels):\n",
    "    class_predicts = nd.transpose(class_predicts, axes=(0, 2, 1))\n",
    "    z = MultiBoxTarget(*[default_anchors, labels, class_predicts])\n",
    "    box_target = z[0]  # box offset target for (x, y, width, height)\n",
    "    box_mask = z[1]  # mask is used to ignore box offsets we don't want to penalize, e.g. negative samples\n",
    "    cls_target = z[2]  # cls_target is an array of labels for all anchors boxes\n",
    "    return box_target, box_mask, cls_target"
   ]
  },
  {
   "cell_type": "code",
   "execution_count": 28,
   "metadata": {},
   "outputs": [
    {
     "name": "stdout",
     "output_type": "stream",
     "text": [
      "FocalLoss(batch_axis=0, w=None)\n"
     ]
    }
   ],
   "source": [
    "class FocalLoss(gluon.loss.Loss):\n",
    "    def __init__(self, axis=-1, alpha=0.25, gamma=2, batch_axis=0, **kwargs):\n",
    "        super(FocalLoss, self).__init__(None, batch_axis, **kwargs)\n",
    "        self._axis = axis\n",
    "        self._alpha = alpha\n",
    "        self._gamma = gamma\n",
    "\n",
    "    def hybrid_forward(self, F, output, label):\n",
    "        output = F.softmax(output)\n",
    "        pt = F.pick(output, label, axis=self._axis, keepdims=True)\n",
    "        loss = -self._alpha * ((1 - pt) ** self._gamma) * F.log(pt)\n",
    "        return F.mean(loss, axis=self._batch_axis, exclude=True)\n",
    "\n",
    "# cls_loss = gluon.loss.SoftmaxCrossEntropyLoss()\n",
    "cls_loss = FocalLoss()\n",
    "print(cls_loss)\n"
   ]
  },
  {
   "cell_type": "code",
   "execution_count": 29,
   "metadata": {},
   "outputs": [
    {
     "name": "stdout",
     "output_type": "stream",
     "text": [
      "SmoothL1Loss(batch_axis=0, w=None)\n"
     ]
    }
   ],
   "source": [
    "class SmoothL1Loss(gluon.loss.Loss):\n",
    "    def __init__(self, batch_axis=0, **kwargs):\n",
    "        super(SmoothL1Loss, self).__init__(None, batch_axis, **kwargs)\n",
    "\n",
    "    def hybrid_forward(self, F, output, label, mask):\n",
    "        loss = F.smooth_l1((output - label) * mask, scalar=1.0)\n",
    "        return F.mean(loss, self._batch_axis, exclude=True)\n",
    "\n",
    "box_loss = SmoothL1Loss()\n",
    "print(box_loss)"
   ]
  },
  {
   "cell_type": "code",
   "execution_count": 30,
   "metadata": {},
   "outputs": [],
   "source": [
    "cls_metric = mx.metric.Accuracy()\n",
    "box_metric = mx.metric.MAE()  # measure absolute difference between prediction and target\n",
    "\n",
    "### Set context for training\n",
    "ctx = mx.gpu()  # it may takes too long to train using CPU\n",
    "try:\n",
    "    _ = nd.zeros(1, ctx=ctx)\n",
    "    # pad label for cuda implementation\n",
    "    train_data.reshape(label_shape=(3, 5))\n",
    "    train_data = test_data.sync_label_shape(train_data)\n",
    "except mx.base.MXNetError as err:\n",
    "    print('No GPU enabled, fall back to CPU, sit back and be patient...')\n",
    "    ctx = mx.cpu()"
   ]
  },
  {
   "cell_type": "code",
   "execution_count": 31,
   "metadata": {},
   "outputs": [],
   "source": [
    "net = ToySSD(num_class)\n",
    "net.initialize(mx.init.Xavier(magnitude=2), ctx=ctx)\n",
    "\n",
    "net.collect_params().reset_ctx(ctx)\n",
    "trainer = gluon.Trainer(net.collect_params(), 'sgd', {'learning_rate': 0.1, 'wd': 5e-4})"
   ]
  },
  {
   "cell_type": "code",
   "execution_count": 36,
   "metadata": {},
   "outputs": [],
   "source": [
    "epochs = 10  # set larger to get better performance\n",
    "log_interval = 20\n",
    "from_scratch = True  # set to True to train from scratch\n",
    "if from_scratch:\n",
    "    start_epoch = 0\n",
    "else:\n",
    "    start_epoch = 148\n",
    "    pretrained = 'ssd_pretrained.params'\n",
    "    sha1 = 'fbb7d872d76355fff1790d864c2238decdb452bc'\n",
    "    url = 'https://apache-mxnet.s3-accelerate.amazonaws.com/gluon/models/ssd_pikachu-fbb7d872.params'\n",
    "    if not osp.exists(pretrained) or not verified(pretrained, sha1):\n",
    "        print('Downloading', pretrained, url)\n",
    "        download(url, fname=pretrained, overwrite=True)\n",
    "    net.load_parameters(pretrained, ctx)"
   ]
  },
  {
   "cell_type": "code",
   "execution_count": 37,
   "metadata": {},
   "outputs": [
    {
     "name": "stdout",
     "output_type": "stream",
     "text": [
      "[Epoch 0 Batch 19] speed: 704.314685 samples/s, training: accuracy=0.997425, mae=0.001877\n",
      "[Epoch 0] training: accuracy=0.997447, mae=0.001862\n",
      "[Epoch 0] time cost: 9.699170\n",
      "[Epoch 1 Batch 19] speed: 705.206532 samples/s, training: accuracy=0.997536, mae=0.001885\n",
      "[Epoch 1] training: accuracy=0.997583, mae=0.001873\n",
      "[Epoch 1] time cost: 9.888413\n",
      "[Epoch 2 Batch 19] speed: 708.878978 samples/s, training: accuracy=0.997560, mae=0.001848\n",
      "[Epoch 2] training: accuracy=0.997618, mae=0.001789\n",
      "[Epoch 2] time cost: 9.637814\n",
      "[Epoch 3 Batch 19] speed: 701.637957 samples/s, training: accuracy=0.997603, mae=0.001815\n",
      "[Epoch 3] training: accuracy=0.997697, mae=0.001766\n",
      "[Epoch 3] time cost: 9.569955\n",
      "[Epoch 4 Batch 19] speed: 696.634217 samples/s, training: accuracy=0.997731, mae=0.001697\n",
      "[Epoch 4] training: accuracy=0.997642, mae=0.001780\n",
      "[Epoch 4] time cost: 9.641375\n",
      "[Epoch 5 Batch 19] speed: 682.111563 samples/s, training: accuracy=0.997639, mae=0.001841\n",
      "[Epoch 5] training: accuracy=0.997646, mae=0.001829\n",
      "[Epoch 5] time cost: 9.463766\n",
      "[Epoch 6 Batch 19] speed: 762.314859 samples/s, training: accuracy=0.997643, mae=0.001827\n",
      "[Epoch 6] training: accuracy=0.997647, mae=0.001823\n",
      "[Epoch 6] time cost: 9.678425\n",
      "[Epoch 7 Batch 19] speed: 699.003338 samples/s, training: accuracy=0.997671, mae=0.001787\n",
      "[Epoch 7] training: accuracy=0.997657, mae=0.001796\n",
      "[Epoch 7] time cost: 9.501266\n",
      "[Epoch 8 Batch 19] speed: 777.979075 samples/s, training: accuracy=0.997601, mae=0.001899\n",
      "[Epoch 8] training: accuracy=0.997603, mae=0.001883\n",
      "[Epoch 8] time cost: 9.452318\n",
      "[Epoch 9 Batch 19] speed: 713.002491 samples/s, training: accuracy=0.997680, mae=0.001802\n",
      "[Epoch 9] training: accuracy=0.997607, mae=0.001823\n",
      "[Epoch 9] time cost: 9.331806\n"
     ]
    }
   ],
   "source": [
    "import time\n",
    "from mxnet import autograd as ag\n",
    "for epoch in range(start_epoch, epochs):\n",
    "    # reset iterator and tick\n",
    "    train_data.reset()\n",
    "    cls_metric.reset()\n",
    "    box_metric.reset()\n",
    "    tic = time.time()\n",
    "    # iterate through all batch\n",
    "    for i, batch in enumerate(train_data):\n",
    "        btic = time.time()\n",
    "        # record gradients\n",
    "        with ag.record():\n",
    "            x = batch.data[0].as_in_context(ctx)\n",
    "            y = batch.label[0].as_in_context(ctx)\n",
    "            default_anchors, class_predictions, box_predictions = net(x)\n",
    "            box_target, box_mask, cls_target = training_targets(default_anchors, class_predictions, y)\n",
    "            # losses\n",
    "            loss1 = cls_loss(class_predictions, cls_target)\n",
    "            loss2 = box_loss(box_predictions, box_target, box_mask)\n",
    "            # sum all losses\n",
    "            loss = loss1 + loss2\n",
    "            # backpropagate\n",
    "            loss.backward()\n",
    "        # apply\n",
    "        trainer.step(batch_size)\n",
    "        # update metrics\n",
    "        cls_metric.update([cls_target], [nd.transpose(class_predictions, (0, 2, 1))])\n",
    "        box_metric.update([box_target], [box_predictions * box_mask])\n",
    "        if (i + 1) % log_interval == 0:\n",
    "            name1, val1 = cls_metric.get()\n",
    "            name2, val2 = box_metric.get()\n",
    "            print('[Epoch %d Batch %d] speed: %f samples/s, training: %s=%f, %s=%f'\n",
    "                  %(epoch ,i, batch_size/(time.time()-btic), name1, val1, name2, val2))\n",
    "\n",
    "    # end of epoch logging\n",
    "    name1, val1 = cls_metric.get()\n",
    "    name2, val2 = box_metric.get()\n",
    "    print('[Epoch %d] training: %s=%f, %s=%f'%(epoch, name1, val1, name2, val2))\n",
    "    print('[Epoch %d] time cost: %f'%(epoch, time.time()-tic))\n",
    "\n",
    "# we can save the trained parameters to disk\n",
    "net.save_parameters('ssd_%d.params' % epochs)"
   ]
  },
  {
   "cell_type": "code",
   "execution_count": 39,
   "metadata": {},
   "outputs": [],
   "source": [
    "import numpy as np\n",
    "import cv2\n",
    "\n",
    "def preprocess(image):\n",
    "    \"\"\"Takes an image and apply preprocess\"\"\"\n",
    "    # resize to data_shape\n",
    "    image = cv2.resize(image, (data_shape, data_shape))\n",
    "    # swap BGR to RGB\n",
    "    image = image[:, :, (2, 1, 0)]\n",
    "    # convert to float before subtracting mean\n",
    "    image = image.astype(np.float32)\n",
    "    # subtract mean\n",
    "    image -= np.array([123, 117, 104])\n",
    "    # organize as [batch-channel-height-width]\n",
    "    image = np.transpose(image, (2, 0, 1))\n",
    "    image = image[np.newaxis, :]\n",
    "    # convert to ndarray\n",
    "    image = nd.array(image)\n",
    "    return image\n",
    "\n",
    "# image = cv2.imread('../img/pikachu.jpg')\n",
    "# x = preprocess(image)\n",
    "# print('x', x.shape)"
   ]
  },
  {
   "cell_type": "code",
   "execution_count": 40,
   "metadata": {},
   "outputs": [
    {
     "name": "stdout",
     "output_type": "stream",
     "text": [
      "anchors \n",
      "[[[-0.084375   -0.084375    0.115625    0.115625  ]\n",
      "  [-0.12037501 -0.12037501  0.151625    0.151625  ]\n",
      "  [-0.12579636 -0.05508568  0.15704636  0.08633568]\n",
      "  ...\n",
      "  [ 0.01949999  0.01949999  0.9805      0.9805    ]\n",
      "  [-0.12225395  0.18887302  1.1222539   0.81112695]\n",
      "  [ 0.18887302 -0.12225395  0.81112695  1.1222539 ]]]\n",
      "<NDArray 1x5444x4 @gpu(0)>\n",
      "class predictions \n",
      "[[[ 0.415777   -1.3159282 ]\n",
      "  [ 0.6136782  -1.5673727 ]\n",
      "  [ 1.1148218  -1.2379944 ]\n",
      "  ...\n",
      "  [-0.08771795 -1.2277299 ]\n",
      "  [ 0.26653773 -1.0700932 ]\n",
      "  [ 0.20430413 -0.8489202 ]]\n",
      "\n",
      " [[ 0.3876635  -1.7704762 ]\n",
      "  [ 1.2783349  -1.6321217 ]\n",
      "  [ 1.0572548  -0.8683292 ]\n",
      "  ...\n",
      "  [-0.1876841  -1.4980446 ]\n",
      "  [ 0.316832   -1.004781  ]\n",
      "  [ 0.31990236 -1.1154065 ]]\n",
      "\n",
      " [[ 0.35812816 -1.5508051 ]\n",
      "  [ 0.61553264 -1.6502211 ]\n",
      "  [ 1.1410655  -0.6187703 ]\n",
      "  ...\n",
      "  [-0.03515667 -1.1848556 ]\n",
      "  [ 0.4898011  -0.9259555 ]\n",
      "  [ 0.12998682 -0.7859293 ]]\n",
      "\n",
      " ...\n",
      "\n",
      " [[ 0.1464767  -1.183554  ]\n",
      "  [ 0.4289365  -1.4842571 ]\n",
      "  [ 1.3065182  -0.86875445]\n",
      "  ...\n",
      "  [ 0.01254942 -1.1846744 ]\n",
      "  [ 0.30933774 -1.0039015 ]\n",
      "  [ 0.38533428 -0.86665004]]\n",
      "\n",
      " [[ 0.68174237 -1.6388882 ]\n",
      "  [ 0.546087   -1.588227  ]\n",
      "  [ 0.7336919  -1.4281656 ]\n",
      "  ...\n",
      "  [ 0.07983097 -0.91936165]\n",
      "  [ 0.27949044 -0.86498654]\n",
      "  [ 0.0766081  -0.7301237 ]]\n",
      "\n",
      " [[ 0.31260464 -1.5620822 ]\n",
      "  [ 0.8016527  -1.6029536 ]\n",
      "  [ 1.3373966  -0.7209705 ]\n",
      "  ...\n",
      "  [-0.06767692 -1.2219151 ]\n",
      "  [ 0.18397436 -0.75431234]\n",
      "  [ 0.37610215 -0.8035564 ]]]\n",
      "<NDArray 32x5444x2 @gpu(0)>\n",
      "box delta predictions \n",
      "[[ 0.32074833 -0.30333677 -0.5480767  ... -0.2045458   0.06987157\n",
      "  -0.19486278]\n",
      " [ 0.00307444 -0.08586676 -0.4644485  ... -0.20378889  0.10448252\n",
      "  -0.20031348]\n",
      " [ 0.05098433 -0.3890291  -0.75903827 ... -0.2866667   0.03564164\n",
      "  -0.26320204]\n",
      " ...\n",
      " [ 0.14468016 -0.35777503 -0.3873424  ... -0.12992294  0.17024405\n",
      "  -0.376961  ]\n",
      " [ 0.12200184 -0.21404913 -0.55942935 ... -0.25059283  0.14073157\n",
      "  -0.2507858 ]\n",
      " [-0.07163601 -0.49975976 -0.38823417 ... -0.20708968 -0.0614692\n",
      "  -0.20795248]]\n",
      "<NDArray 32x21776 @gpu(0)>\n"
     ]
    }
   ],
   "source": [
    "# if pre-trained model is provided, we can load it\n",
    "# net.load_parameters('ssd_%d.params' % epochs, ctx)\n",
    "anchors, cls_preds, box_preds = net(x.as_in_context(ctx))\n",
    "print('anchors', anchors)\n",
    "print('class predictions', cls_preds)\n",
    "print('box delta predictions', box_preds)"
   ]
  },
  {
   "cell_type": "code",
   "execution_count": 41,
   "metadata": {},
   "outputs": [
    {
     "name": "stdout",
     "output_type": "stream",
     "text": [
      "\n",
      "[[[ 0.          0.7717835   0.670734    0.22372717  0.8119611\n",
      "    0.4139651 ]\n",
      "  [-1.          0.65280104  0.6649843   0.22973764  0.8008191\n",
      "    0.42765903]\n",
      "  [-1.          0.638765    0.66812265  0.22855636  0.8060832\n",
      "    0.41087   ]\n",
      "  ...\n",
      "  [-1.         -1.         -1.         -1.         -1.\n",
      "   -1.        ]\n",
      "  [-1.         -1.         -1.         -1.         -1.\n",
      "   -1.        ]\n",
      "  [-1.         -1.         -1.         -1.         -1.\n",
      "   -1.        ]]\n",
      "\n",
      " [[ 0.          0.67261726  0.39322084  0.36398202  0.60801786\n",
      "    0.6853779 ]\n",
      "  [-1.          0.6725863   0.37510148  0.369469    0.6122469\n",
      "    0.6839518 ]\n",
      "  [-1.          0.6631486   0.31820577  0.3436234   0.62165415\n",
      "    0.70559585]\n",
      "  ...\n",
      "  [-1.         -1.         -1.         -1.         -1.\n",
      "   -1.        ]\n",
      "  [-1.         -1.         -1.         -1.         -1.\n",
      "   -1.        ]\n",
      "  [-1.         -1.         -1.         -1.         -1.\n",
      "   -1.        ]]\n",
      "\n",
      " [[ 0.          0.5745492   0.37983838  0.33237672  0.49056372\n",
      "    0.5204381 ]\n",
      "  [-1.          0.5515011   0.37931392  0.35123745  0.4843193\n",
      "    0.5439254 ]\n",
      "  [ 0.          0.44354713  0.22876234  0.6851668   0.56982\n",
      "    1.0608127 ]\n",
      "  ...\n",
      "  [-1.         -1.         -1.         -1.         -1.\n",
      "   -1.        ]\n",
      "  [-1.         -1.         -1.         -1.         -1.\n",
      "   -1.        ]\n",
      "  [-1.         -1.         -1.         -1.         -1.\n",
      "   -1.        ]]\n",
      "\n",
      " ...\n",
      "\n",
      " [[ 0.          0.65312374  0.4951696   0.5712402   0.7026744\n",
      "    0.86780727]\n",
      "  [-1.          0.64647305  0.49907622  0.60443604  0.6955728\n",
      "    0.82586646]\n",
      "  [-1.          0.6330528   0.5023522   0.5693157   0.69071275\n",
      "    0.82876015]\n",
      "  ...\n",
      "  [-1.         -1.         -1.         -1.         -1.\n",
      "   -1.        ]\n",
      "  [-1.         -1.         -1.         -1.         -1.\n",
      "   -1.        ]\n",
      "  [-1.         -1.         -1.         -1.         -1.\n",
      "   -1.        ]]\n",
      "\n",
      " [[ 0.          0.7378939   0.5516453   0.4558777   0.6870575\n",
      "    0.65458214]\n",
      "  [-1.          0.6445073   0.5379397   0.4405688   0.6939067\n",
      "    0.64356315]\n",
      "  [-1.          0.5368063   0.54014957  0.45755666  0.6745056\n",
      "    0.6588332 ]\n",
      "  ...\n",
      "  [-1.         -1.         -1.         -1.         -1.\n",
      "   -1.        ]\n",
      "  [-1.         -1.         -1.         -1.         -1.\n",
      "   -1.        ]\n",
      "  [-1.         -1.         -1.         -1.         -1.\n",
      "   -1.        ]]\n",
      "\n",
      " [[ 0.          0.5872836   0.4657484   0.34733203  0.5808494\n",
      "    0.5397503 ]\n",
      "  [-1.          0.53476995  0.45818067  0.32551673  0.57486296\n",
      "    0.51502246]\n",
      "  [-1.          0.52588063  0.47070342  0.3234288   0.5935864\n",
      "    0.5314031 ]\n",
      "  ...\n",
      "  [-1.         -1.         -1.         -1.         -1.\n",
      "   -1.        ]\n",
      "  [-1.         -1.         -1.         -1.         -1.\n",
      "   -1.        ]\n",
      "  [-1.         -1.         -1.         -1.         -1.\n",
      "   -1.        ]]]\n",
      "<NDArray 32x5444x6 @gpu(0)>\n"
     ]
    }
   ],
   "source": [
    "from mxnet.contrib.ndarray import MultiBoxDetection\n",
    "# convert predictions to probabilities using softmax\n",
    "cls_probs = nd.SoftmaxActivation(nd.transpose(cls_preds, (0, 2, 1)), mode='channel')\n",
    "# apply shifts to anchors boxes, non-maximum-suppression, etc...\n",
    "output = MultiBoxDetection(*[cls_probs, box_preds, anchors], force_suppress=True, clip=False)\n",
    "print(output)"
   ]
  },
  {
   "cell_type": "code",
   "execution_count": 43,
   "metadata": {},
   "outputs": [],
   "source": [
    "def display(img, out, thresh=0.5):\n",
    "    import random\n",
    "    import matplotlib as mpl\n",
    "    mpl.rcParams['figure.figsize'] = (10,10)\n",
    "    pens = dict()\n",
    "    plt.clf()\n",
    "    plt.imshow(img)\n",
    "    for det in out:\n",
    "        cid = int(det[0])\n",
    "        if cid < 0:\n",
    "            continue\n",
    "        score = det[1]\n",
    "        if score < thresh:\n",
    "            continue\n",
    "        if cid not in pens:\n",
    "            pens[cid] = (random.random(), random.random(), random.random())\n",
    "        scales = [img.shape[1], img.shape[0]] * 2\n",
    "        xmin, ymin, xmax, ymax = [int(p * s) for p, s in zip(det[2:6].tolist(), scales)]\n",
    "        rect = plt.Rectangle((xmin, ymin), xmax - xmin, ymax - ymin, fill=False,\n",
    "                             edgecolor=pens[cid], linewidth=3)\n",
    "        plt.gca().add_patch(rect)\n",
    "        text = class_names[cid]\n",
    "        plt.gca().text(xmin, ymin-2, '{:s} {:.3f}'.format(text, score),\n",
    "                       bbox=dict(facecolor=pens[cid], alpha=0.5),\n",
    "                       fontsize=12, color='white')\n",
    "    plt.show()\n",
    "\n",
    "# display(image[:, :, (2, 1, 0)], output[0].asnumpy(), thresh=0.45)"
   ]
  },
  {
   "cell_type": "code",
   "execution_count": null,
   "metadata": {},
   "outputs": [],
   "source": []
  }
 ],
 "metadata": {
  "kernelspec": {
   "display_name": "Python 3",
   "language": "python",
   "name": "python3"
  },
  "language_info": {
   "codemirror_mode": {
    "name": "ipython",
    "version": 3
   },
   "file_extension": ".py",
   "mimetype": "text/x-python",
   "name": "python",
   "nbconvert_exporter": "python",
   "pygments_lexer": "ipython3",
   "version": "3.6.8"
  }
 },
 "nbformat": 4,
 "nbformat_minor": 2
}
