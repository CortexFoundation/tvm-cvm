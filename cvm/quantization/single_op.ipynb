{
 "cells": [
  {
   "cell_type": "code",
   "execution_count": 1,
   "metadata": {},
   "outputs": [],
   "source": [
    "import mxnet as mx\n",
    "from mxnet import gluon\n",
    "from mxnet import ndarray as nd\n",
    "import numpy as np\n",
    "\n",
    "import cvm_op\n",
    "import utils"
   ]
  },
  {
   "cell_type": "code",
   "execution_count": 3,
   "metadata": {},
   "outputs": [],
   "source": [
    "data_ = np.load('/tmp/inception_v3/out/C2_relu1_fwd.npy')\n",
    "weight_ = np.load('/tmp/inception_v3/out/C2_conv2_weight.npy')\n",
    "bias_ = np.load('/tmp/inception_v3/out/C2_conv2_fwd_conv_bias.npy')\n",
    "fwd_ = np.load('/tmp/inception_v3/out/C2_conv2_fwd_C2_batchnorm2_fwd.npy')"
   ]
  },
  {
   "cell_type": "code",
   "execution_count": 98,
   "metadata": {},
   "outputs": [],
   "source": [
    "ctx = mx.gpu()\n",
    "dtype = 'float32'\n",
    "data = nd.array(data_, dtype=dtype)\n",
    "weight = nd.array(weight_, dtype=dtype)\n",
    "bias = nd.array(bias_, dtype=dtype)\n",
    "fwd = nd.array(fwd_, dtype=dtype)"
   ]
  },
  {
   "cell_type": "code",
   "execution_count": 99,
   "metadata": {},
   "outputs": [
    {
     "data": {
      "text/plain": [
       "((1, 160, 12, 12), (160, 160, 1, 7), (160,), (1, 160, 12, 12))"
      ]
     },
     "execution_count": 99,
     "metadata": {},
     "output_type": "execute_result"
    }
   ],
   "source": [
    "data.shape, weight.shape, bias.shape, fwd.shape"
   ]
  },
  {
   "cell_type": "code",
   "execution_count": 100,
   "metadata": {},
   "outputs": [],
   "source": [
    "out = nd.Convolution(data, weight, bias, (1, 7), pad=(0, 3), num_filter=160)"
   ]
  },
  {
   "cell_type": "code",
   "execution_count": 101,
   "metadata": {},
   "outputs": [
    {
     "data": {
      "text/plain": [
       "(15922.0,\n",
       " -15498.0,\n",
       " array([ -169.,  2914.,  5056.,  7204.,  3701.,  2877., -1771., -5654.,\n",
       "        -3968.,  1496.], dtype=float32))"
      ]
     },
     "execution_count": 101,
     "metadata": {},
     "output_type": "execute_result"
    }
   ],
   "source": [
    "out.max().asscalar(), out.min().asscalar(), out.asnumpy().flatten()[:10]"
   ]
  },
  {
   "cell_type": "code",
   "execution_count": 102,
   "metadata": {},
   "outputs": [
    {
     "data": {
      "text/plain": [
       "array([ -169.,  2913.,  5055.,  7203.,  3700.,  2877., -1770., -5653.,\n",
       "       -3967.,  1495.], dtype=float32)"
      ]
     },
     "execution_count": 102,
     "metadata": {},
     "output_type": "execute_result"
    }
   ],
   "source": [
    "fwd.asnumpy().flatten()[:10]"
   ]
  },
  {
   "cell_type": "code",
   "execution_count": null,
   "metadata": {},
   "outputs": [],
   "source": []
  }
 ],
 "metadata": {
  "kernelspec": {
   "display_name": "Python 3",
   "language": "python",
   "name": "python3"
  },
  "language_info": {
   "codemirror_mode": {
    "name": "ipython",
    "version": 3
   },
   "file_extension": ".py",
   "mimetype": "text/x-python",
   "name": "python",
   "nbconvert_exporter": "python",
   "pygments_lexer": "ipython3",
   "version": "3.6.8"
  }
 },
 "nbformat": 4,
 "nbformat_minor": 2
}
