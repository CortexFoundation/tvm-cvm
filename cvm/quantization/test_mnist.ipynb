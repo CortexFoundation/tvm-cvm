{
 "cells": [
  {
   "cell_type": "code",
   "execution_count": 2,
   "metadata": {},
   "outputs": [
    {
     "data": {
      "text/plain": [
       "dict_keys(['LeNet_conv0_weight', 'LeNet_conv0_bias', 'LeNet_conv1_weight', 'LeNet_conv1_bias', 'LeNet_dense0_weight', 'LeNet_dense0_bias', 'LeNet_dense1_weight', 'LeNet_dense1_bias'])"
      ]
     },
     "execution_count": 2,
     "metadata": {},
     "output_type": "execute_result"
    }
   ],
   "source": [
    "from mxnet import ndarray as nd\n",
    "\n",
    "a = nd.load('../../../data/mnist.params')\n",
    "a.keys()"
   ]
  },
  {
   "cell_type": "code",
   "execution_count": 43,
   "metadata": {},
   "outputs": [],
   "source": [
    "import mxnet as mx\n",
    "pool_attr = {\n",
    "    'count_include_pad': 'True', \n",
    "    'pad': '(0, 0)', \n",
    "    'stride': '(2, 2)', \n",
    "    'pooling_convention': 'valid', \n",
    "    'global_pool': 'False', \n",
    "    'pool_type': 'avg', \n",
    "    'kernel': '(2, 2)'\n",
    "}\n",
    "in_channel = 192\n",
    "conv_attr = {\n",
    "    'no_bias': 'True', \n",
    "    'dilate': '(1, 1)', \n",
    "    'kernel': (2, 2), \n",
    "    'stride': '(2, 2)', \n",
    "    'pad': '(0, 0)', \n",
    "    'layout': 'NCHW', \n",
    "    'num_filter': in_channel, \n",
    "    'num_group': in_channel,\n",
    "}\n",
    "data = mx.sym.var('data')\n",
    "py = mx.sym.Pooling(data, **pool_attr)\n",
    "W = mx.sym.var('weight', shape=(in_channel, 1, 2, 2))\n",
    "cy = mx.sym.Convolution(data, W, **conv_attr)\n",
    "out = mx.sym.Group([py, cy])\n",
    "from mxnet import gluon\n",
    "graph = gluon.nn.SymbolBlock(out, [data])\n",
    "graph.collect_params().initialize()"
   ]
  },
  {
   "cell_type": "code",
   "execution_count": 44,
   "metadata": {},
   "outputs": [],
   "source": [
    "weight = nd.full(shape=(in_channel, 1, 2, 2), val=(1/4))\n",
    "graph.collect_params()['weight'].set_data(weight)"
   ]
  },
  {
   "cell_type": "code",
   "execution_count": 70,
   "metadata": {},
   "outputs": [
    {
     "name": "stdout",
     "output_type": "stream",
     "text": [
      "(192, 56, 56) (192, 28, 28) (192, 28, 28) (192, 1, 2, 2)\n"
     ]
    }
   ],
   "source": [
    "import numpy as np\n",
    "in_data = np.load('../../../data/densenet/densenet0_conv1_fwd.npy')\n",
    "out_data = np.load('../../../data/densenet/densenet0_pool1_fwd.npy')\n",
    "weight_data = np.load('../../../data/densenet/densenet0_pool_conv1_fwd_weight.npy')\n",
    "conv_out_data = np.load('../../../data/densenet/densenet0_pool_conv1_fwd.npy')\n",
    "print (in_data.shape, out_data.shape, conv_out_data.shape, weight_data.shape)"
   ]
  },
  {
   "cell_type": "code",
   "execution_count": 74,
   "metadata": {},
   "outputs": [
    {
     "data": {
      "text/plain": [
       "True"
      ]
     },
     "execution_count": 74,
     "metadata": {},
     "output_type": "execute_result"
    }
   ],
   "source": [
    "(out_data == conv_out_data).all()"
   ]
  },
  {
   "cell_type": "code",
   "execution_count": 54,
   "metadata": {
    "scrolled": true
   },
   "outputs": [
    {
     "name": "stdout",
     "output_type": "stream",
     "text": [
      "(1, 192, 56, 56)\n",
      "True\n",
      "(192, 1, 2, 2) (1, 192, 28, 28)\n"
     ]
    }
   ],
   "source": [
    "a = nd.array(in_data).reshape((1, *in_data.shape))\n",
    "print (a.shape)\n",
    "res = graph.forward(a)\n",
    "print ((res[0].asnumpy() == res[1].asnumpy()).all())\n",
    "diff = res[0].asnumpy().reshape(out_data.shape) - out_data\n",
    "assert (diff < 1e-6).all()\n",
    "print (weight.shape, res[0].shape)"
   ]
  },
  {
   "cell_type": "code",
   "execution_count": 27,
   "metadata": {},
   "outputs": [
    {
     "data": {
      "text/plain": [
       "True"
      ]
     },
     "execution_count": 27,
     "metadata": {},
     "output_type": "execute_result"
    }
   ],
   "source": []
  },
  {
   "cell_type": "code",
   "execution_count": null,
   "metadata": {},
   "outputs": [],
   "source": []
  }
 ],
 "metadata": {
  "kernelspec": {
   "display_name": "Python 3",
   "language": "python",
   "name": "python3"
  },
  "language_info": {
   "codemirror_mode": {
    "name": "ipython",
    "version": 3
   },
   "file_extension": ".py",
   "mimetype": "text/x-python",
   "name": "python",
   "nbconvert_exporter": "python",
   "pygments_lexer": "ipython3",
   "version": "3.6.8"
  }
 },
 "nbformat": 4,
 "nbformat_minor": 2
}
