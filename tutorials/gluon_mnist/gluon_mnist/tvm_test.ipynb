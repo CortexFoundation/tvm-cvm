{
 "cells": [
  {
   "cell_type": "code",
   "execution_count": 1,
   "metadata": {},
   "outputs": [],
   "source": [
    "import mxnet as mx\n",
    "from mxnet import gluon, autograd, ndarray\n",
    "import numpy as np\n",
    "\n",
    "# Download the MNIST dataset, then create the training and test sets \n",
    "train_data = mx.gluon.data.DataLoader(mx.gluon.data.vision.MNIST(train=True, transform=lambda data, label: (data.astype(np.float32)/255, label)),\n",
    "                                      batch_size=32, shuffle=True)\n",
    "test_data = mx.gluon.data.DataLoader(mx.gluon.data.vision.MNIST(train=False, transform=lambda data, label: (data.astype(np.float32)/255, label)),\n",
    "                                     batch_size=32, shuffle=False)\n",
    "# Initialize the model\n",
    "net = gluon.nn.Sequential()\n",
    "\n",
    "# Define the model architecture\n",
    "with net.name_scope():\n",
    "    net.add(gluon.nn.Dense(10)) # Output layer, one for each number 0-9\n",
    "\n",
    "net.collect_params().initialize(mx.init.Normal(sigma=0.05), ctx=mx.cpu())\n",
    "softmax_cross_entropy = gluon.loss.SoftmaxCrossEntropyLoss()\n",
    "\n",
    "trainer = gluon.Trainer(net.collect_params(), 'sgd', {'learning_rate': .1})\n",
    "\n",
    "# Loop through several epochs and watch the model improve\n",
    "epochs = 1\n",
    "for e in range(epochs):\n",
    "    for i, (data, label) in enumerate(train_data):\n",
    "        data = data.as_in_context(mx.cpu()).reshape((-1, 784))\n",
    "        label = label.as_in_context(mx.cpu())\n",
    "        with autograd.record(): # Start recording the derivatives\n",
    "            output = net(data) # the forward iteration\n",
    "            loss = softmax_cross_entropy(output, label)\n",
    "            loss.backward()\n",
    "        trainer.step(data.shape[0])\n",
    "        # Provide stats on the improvement of the model over each epoch\n",
    "        curr_loss = ndarray.mean(loss).asscalar()\n",
    "        break"
   ]
  },
  {
   "cell_type": "code",
   "execution_count": 2,
   "metadata": {},
   "outputs": [],
   "source": [
    "import tvm\n",
    "import nnvm\n",
    "from tvm.contrib import util, graph_runtime as runtime\n",
    "from tvm import rpc"
   ]
  },
  {
   "cell_type": "code",
   "execution_count": 16,
   "metadata": {},
   "outputs": [],
   "source": [
    "sym = (mx.symbol.Variable('data1') == mx.symbol.Variable('data2'))"
   ]
  },
  {
   "cell_type": "code",
   "execution_count": 17,
   "metadata": {},
   "outputs": [],
   "source": [
    "sym, params = nnvm.frontend.from_mxnet(sym)\n",
    "graph, lib, params = nnvm.compiler.build(sym, 'llvm', shape={\"data1\": (1, 5), \"data2\": (1, 5)}, params=params)\n",
    "remote = rpc.LocalSession()\n",
    "module = runtime.create(graph, lib, ctx = remote.cpu(0))"
   ]
  },
  {
   "cell_type": "code",
   "execution_count": 30,
   "metadata": {},
   "outputs": [
    {
     "ename": "TVMError",
     "evalue": "[17:34:35] /home/tian/tvm/src/runtime/graph/graph_runtime.cc:103: Check failed: ret == 0 (-1 vs. 0) [17:34:35] /home/tian/tvm/src/runtime/ndarray.cc:157: Check failed: from_size == to_size (5 vs. 20) TVMArrayCopyFromTo: The size must exactly match\n\nStack trace returned 10 entries:\n[bt] (0) /home/tian/.conda/envs/tvm/lib/python3.7/site-packages/tvm-0.5.dev0-py3.7-linux-x86_64.egg/tvm/libtvm.so(dmlc::StackTrace[abi:cxx11]()+0x5b) [0x7f7a204782bb]\n[bt] (1) /home/tian/.conda/envs/tvm/lib/python3.7/site-packages/tvm-0.5.dev0-py3.7-linux-x86_64.egg/tvm/libtvm.so(tvm::runtime::NDArray::CopyFromTo(DLTensor*, DLTensor*, void*)+0x6e7) [0x7f7a20892867]\n[bt] (2) /home/tian/.conda/envs/tvm/lib/python3.7/site-packages/tvm-0.5.dev0-py3.7-linux-x86_64.egg/tvm/libtvm.so(TVMArrayCopyFromTo+0x6) [0x7f7a20892fa6]\n[bt] (3) /home/tian/.conda/envs/tvm/lib/python3.7/site-packages/tvm-0.5.dev0-py3.7-linux-x86_64.egg/tvm/libtvm.so(tvm::runtime::GraphRuntime::SetInput(int, DLTensor*)+0xfc) [0x7f7a208d373c]\n[bt] (4) /home/tian/.conda/envs/tvm/lib/python3.7/site-packages/tvm-0.5.dev0-py3.7-linux-x86_64.egg/tvm/libtvm.so(+0x6484a6) [0x7f7a208ce4a6]\n[bt] (5) /home/tian/.conda/envs/tvm/lib/python3.7/site-packages/tvm-0.5.dev0-py3.7-linux-x86_64.egg/tvm/libtvm.so(TVMFuncCall+0x5e) [0x7f7a2089f42e]\n[bt] (6) /home/tian/.conda/envs/tvm/lib/python3.7/lib-dynload/../../libffi.so.6(ffi_call_unix64+0x4c) [0x7f7aa2755ec0]\n[bt] (7) /home/tian/.conda/envs/tvm/lib/python3.7/lib-dynload/../../libffi.so.6(ffi_call+0x22d) [0x7f7aa275587d]\n[bt] (8) /home/tian/.conda/envs/tvm/lib/python3.7/lib-dynload/_ctypes.cpython-37m-x86_64-linux-gnu.so(_ctypes_callproc+0x2ce) [0x7f7aa296af8e]\n[bt] (9) /home/tian/.conda/envs/tvm/lib/python3.7/lib-dynload/_ctypes.cpython-37m-x86_64-linux-gnu.so(+0x129c4) [0x7f7aa296b9c4]\n\n\n\nStack trace returned 10 entries:\n[bt] (0) /home/tian/.conda/envs/tvm/lib/python3.7/site-packages/tvm-0.5.dev0-py3.7-linux-x86_64.egg/tvm/libtvm.so(dmlc::StackTrace[abi:cxx11]()+0x5b) [0x7f7a204782bb]\n[bt] (1) /home/tian/.conda/envs/tvm/lib/python3.7/site-packages/tvm-0.5.dev0-py3.7-linux-x86_64.egg/tvm/libtvm.so(dmlc::LogMessageFatal::~LogMessageFatal()+0x28) [0x7f7a20478b28]\n[bt] (2) /home/tian/.conda/envs/tvm/lib/python3.7/site-packages/tvm-0.5.dev0-py3.7-linux-x86_64.egg/tvm/libtvm.so(tvm::runtime::GraphRuntime::SetInput(int, DLTensor*)+0x191) [0x7f7a208d37d1]\n[bt] (3) /home/tian/.conda/envs/tvm/lib/python3.7/site-packages/tvm-0.5.dev0-py3.7-linux-x86_64.egg/tvm/libtvm.so(+0x6484a6) [0x7f7a208ce4a6]\n[bt] (4) /home/tian/.conda/envs/tvm/lib/python3.7/site-packages/tvm-0.5.dev0-py3.7-linux-x86_64.egg/tvm/libtvm.so(TVMFuncCall+0x5e) [0x7f7a2089f42e]\n[bt] (5) /home/tian/.conda/envs/tvm/lib/python3.7/lib-dynload/../../libffi.so.6(ffi_call_unix64+0x4c) [0x7f7aa2755ec0]\n[bt] (6) /home/tian/.conda/envs/tvm/lib/python3.7/lib-dynload/../../libffi.so.6(ffi_call+0x22d) [0x7f7aa275587d]\n[bt] (7) /home/tian/.conda/envs/tvm/lib/python3.7/lib-dynload/_ctypes.cpython-37m-x86_64-linux-gnu.so(_ctypes_callproc+0x2ce) [0x7f7aa296af8e]\n[bt] (8) /home/tian/.conda/envs/tvm/lib/python3.7/lib-dynload/_ctypes.cpython-37m-x86_64-linux-gnu.so(+0x129c4) [0x7f7aa296b9c4]\n[bt] (9) /home/tian/.conda/envs/tvm/bin/python(_PyObject_FastCallKeywords+0x49b) [0x55ec1f10c11b]\n\n",
     "output_type": "error",
     "traceback": [
      "\u001b[0;31m---------------------------------------------------------------------------\u001b[0m",
      "\u001b[0;31mTVMError\u001b[0m                                  Traceback (most recent call last)",
      "\u001b[0;32m<ipython-input-30-7596830c7954>\u001b[0m in \u001b[0;36m<module>\u001b[0;34m()\u001b[0m\n\u001b[0;32m----> 1\u001b[0;31m \u001b[0mmodule\u001b[0m\u001b[0;34m.\u001b[0m\u001b[0mset_input\u001b[0m\u001b[0;34m(\u001b[0m\u001b[0;34m\"data1\"\u001b[0m\u001b[0;34m,\u001b[0m \u001b[0mnp\u001b[0m\u001b[0;34m.\u001b[0m\u001b[0mzeros\u001b[0m\u001b[0;34m(\u001b[0m\u001b[0;34m(\u001b[0m\u001b[0;36m1\u001b[0m\u001b[0;34m,\u001b[0m \u001b[0;36m5\u001b[0m\u001b[0;34m)\u001b[0m\u001b[0;34m)\u001b[0m\u001b[0;34m.\u001b[0m\u001b[0mastype\u001b[0m\u001b[0;34m(\u001b[0m\u001b[0;34m'int8'\u001b[0m\u001b[0;34m)\u001b[0m\u001b[0;34m)\u001b[0m\u001b[0;34m\u001b[0m\u001b[0m\n\u001b[0m\u001b[1;32m      2\u001b[0m \u001b[0mmodule\u001b[0m\u001b[0;34m.\u001b[0m\u001b[0mset_input\u001b[0m\u001b[0;34m(\u001b[0m\u001b[0;34m\"data2\"\u001b[0m\u001b[0;34m,\u001b[0m \u001b[0mnp\u001b[0m\u001b[0;34m.\u001b[0m\u001b[0mzeros\u001b[0m\u001b[0;34m(\u001b[0m\u001b[0;34m(\u001b[0m\u001b[0;36m1\u001b[0m\u001b[0;34m,\u001b[0m \u001b[0;36m5\u001b[0m\u001b[0;34m)\u001b[0m\u001b[0;34m)\u001b[0m\u001b[0;34m.\u001b[0m\u001b[0mastype\u001b[0m\u001b[0;34m(\u001b[0m\u001b[0;34m'int8'\u001b[0m\u001b[0;34m)\u001b[0m\u001b[0;34m)\u001b[0m\u001b[0;34m\u001b[0m\u001b[0m\n\u001b[1;32m      3\u001b[0m \u001b[0mmodule\u001b[0m\u001b[0;34m.\u001b[0m\u001b[0mset_input\u001b[0m\u001b[0;34m(\u001b[0m\u001b[0;34m**\u001b[0m\u001b[0mparams\u001b[0m\u001b[0;34m)\u001b[0m\u001b[0;34m\u001b[0m\u001b[0m\n\u001b[1;32m      4\u001b[0m \u001b[0mmodule\u001b[0m\u001b[0;34m.\u001b[0m\u001b[0mrun\u001b[0m\u001b[0;34m(\u001b[0m\u001b[0;34m)\u001b[0m\u001b[0;34m\u001b[0m\u001b[0m\n",
      "\u001b[0;32m~/.conda/envs/tvm/lib/python3.7/site-packages/tvm-0.5.dev0-py3.7-linux-x86_64.egg/tvm/contrib/graph_runtime.py\u001b[0m in \u001b[0;36mset_input\u001b[0;34m(self, key, value, **params)\u001b[0m\n\u001b[1;32m     96\u001b[0m         \"\"\"\n\u001b[1;32m     97\u001b[0m         \u001b[0;32mif\u001b[0m \u001b[0mkey\u001b[0m\u001b[0;34m:\u001b[0m\u001b[0;34m\u001b[0m\u001b[0m\n\u001b[0;32m---> 98\u001b[0;31m             \u001b[0mself\u001b[0m\u001b[0;34m.\u001b[0m\u001b[0m_set_input\u001b[0m\u001b[0;34m(\u001b[0m\u001b[0mkey\u001b[0m\u001b[0;34m,\u001b[0m \u001b[0mnd\u001b[0m\u001b[0;34m.\u001b[0m\u001b[0marray\u001b[0m\u001b[0;34m(\u001b[0m\u001b[0mvalue\u001b[0m\u001b[0;34m,\u001b[0m \u001b[0mctx\u001b[0m\u001b[0;34m=\u001b[0m\u001b[0mself\u001b[0m\u001b[0;34m.\u001b[0m\u001b[0mctx\u001b[0m\u001b[0;34m)\u001b[0m\u001b[0;34m)\u001b[0m\u001b[0;34m\u001b[0m\u001b[0m\n\u001b[0m\u001b[1;32m     99\u001b[0m         \u001b[0;32mfor\u001b[0m \u001b[0mk\u001b[0m\u001b[0;34m,\u001b[0m \u001b[0mv\u001b[0m \u001b[0;32min\u001b[0m \u001b[0mparams\u001b[0m\u001b[0;34m.\u001b[0m\u001b[0mitems\u001b[0m\u001b[0;34m(\u001b[0m\u001b[0;34m)\u001b[0m\u001b[0;34m:\u001b[0m\u001b[0;34m\u001b[0m\u001b[0m\n\u001b[1;32m    100\u001b[0m             \u001b[0mself\u001b[0m\u001b[0;34m.\u001b[0m\u001b[0m_set_input\u001b[0m\u001b[0;34m(\u001b[0m\u001b[0mk\u001b[0m\u001b[0;34m,\u001b[0m \u001b[0mnd\u001b[0m\u001b[0;34m.\u001b[0m\u001b[0marray\u001b[0m\u001b[0;34m(\u001b[0m\u001b[0mv\u001b[0m\u001b[0;34m,\u001b[0m \u001b[0mctx\u001b[0m\u001b[0;34m=\u001b[0m\u001b[0mself\u001b[0m\u001b[0;34m.\u001b[0m\u001b[0mctx\u001b[0m\u001b[0;34m)\u001b[0m\u001b[0;34m)\u001b[0m\u001b[0;34m\u001b[0m\u001b[0m\n",
      "\u001b[0;32m~/.conda/envs/tvm/lib/python3.7/site-packages/tvm-0.5.dev0-py3.7-linux-x86_64.egg/tvm/_ffi/_ctypes/function.py\u001b[0m in \u001b[0;36m__call__\u001b[0;34m(self, *args)\u001b[0m\n\u001b[1;32m    182\u001b[0m         check_call(_LIB.TVMFuncCall(\n\u001b[1;32m    183\u001b[0m             \u001b[0mself\u001b[0m\u001b[0;34m.\u001b[0m\u001b[0mhandle\u001b[0m\u001b[0;34m,\u001b[0m \u001b[0mvalues\u001b[0m\u001b[0;34m,\u001b[0m \u001b[0mtcodes\u001b[0m\u001b[0;34m,\u001b[0m \u001b[0mctypes\u001b[0m\u001b[0;34m.\u001b[0m\u001b[0mc_int\u001b[0m\u001b[0;34m(\u001b[0m\u001b[0mnum_args\u001b[0m\u001b[0;34m)\u001b[0m\u001b[0;34m,\u001b[0m\u001b[0;34m\u001b[0m\u001b[0m\n\u001b[0;32m--> 184\u001b[0;31m             ctypes.byref(ret_val), ctypes.byref(ret_tcode)))\n\u001b[0m\u001b[1;32m    185\u001b[0m         \u001b[0m_\u001b[0m \u001b[0;34m=\u001b[0m \u001b[0mtemp_args\u001b[0m\u001b[0;34m\u001b[0m\u001b[0m\n\u001b[1;32m    186\u001b[0m         \u001b[0m_\u001b[0m \u001b[0;34m=\u001b[0m \u001b[0margs\u001b[0m\u001b[0;34m\u001b[0m\u001b[0m\n",
      "\u001b[0;32m~/.conda/envs/tvm/lib/python3.7/site-packages/tvm-0.5.dev0-py3.7-linux-x86_64.egg/tvm/_ffi/base.py\u001b[0m in \u001b[0;36mcheck_call\u001b[0;34m(ret)\u001b[0m\n\u001b[1;32m     64\u001b[0m     \"\"\"\n\u001b[1;32m     65\u001b[0m     \u001b[0;32mif\u001b[0m \u001b[0mret\u001b[0m \u001b[0;34m!=\u001b[0m \u001b[0;36m0\u001b[0m\u001b[0;34m:\u001b[0m\u001b[0;34m\u001b[0m\u001b[0m\n\u001b[0;32m---> 66\u001b[0;31m         \u001b[0;32mraise\u001b[0m \u001b[0mTVMError\u001b[0m\u001b[0;34m(\u001b[0m\u001b[0mpy_str\u001b[0m\u001b[0;34m(\u001b[0m\u001b[0m_LIB\u001b[0m\u001b[0;34m.\u001b[0m\u001b[0mTVMGetLastError\u001b[0m\u001b[0;34m(\u001b[0m\u001b[0;34m)\u001b[0m\u001b[0;34m)\u001b[0m\u001b[0;34m)\u001b[0m\u001b[0;34m\u001b[0m\u001b[0m\n\u001b[0m\u001b[1;32m     67\u001b[0m \u001b[0;34m\u001b[0m\u001b[0m\n\u001b[1;32m     68\u001b[0m \u001b[0;34m\u001b[0m\u001b[0m\n",
      "\u001b[0;31mTVMError\u001b[0m: [17:34:35] /home/tian/tvm/src/runtime/graph/graph_runtime.cc:103: Check failed: ret == 0 (-1 vs. 0) [17:34:35] /home/tian/tvm/src/runtime/ndarray.cc:157: Check failed: from_size == to_size (5 vs. 20) TVMArrayCopyFromTo: The size must exactly match\n\nStack trace returned 10 entries:\n[bt] (0) /home/tian/.conda/envs/tvm/lib/python3.7/site-packages/tvm-0.5.dev0-py3.7-linux-x86_64.egg/tvm/libtvm.so(dmlc::StackTrace[abi:cxx11]()+0x5b) [0x7f7a204782bb]\n[bt] (1) /home/tian/.conda/envs/tvm/lib/python3.7/site-packages/tvm-0.5.dev0-py3.7-linux-x86_64.egg/tvm/libtvm.so(tvm::runtime::NDArray::CopyFromTo(DLTensor*, DLTensor*, void*)+0x6e7) [0x7f7a20892867]\n[bt] (2) /home/tian/.conda/envs/tvm/lib/python3.7/site-packages/tvm-0.5.dev0-py3.7-linux-x86_64.egg/tvm/libtvm.so(TVMArrayCopyFromTo+0x6) [0x7f7a20892fa6]\n[bt] (3) /home/tian/.conda/envs/tvm/lib/python3.7/site-packages/tvm-0.5.dev0-py3.7-linux-x86_64.egg/tvm/libtvm.so(tvm::runtime::GraphRuntime::SetInput(int, DLTensor*)+0xfc) [0x7f7a208d373c]\n[bt] (4) /home/tian/.conda/envs/tvm/lib/python3.7/site-packages/tvm-0.5.dev0-py3.7-linux-x86_64.egg/tvm/libtvm.so(+0x6484a6) [0x7f7a208ce4a6]\n[bt] (5) /home/tian/.conda/envs/tvm/lib/python3.7/site-packages/tvm-0.5.dev0-py3.7-linux-x86_64.egg/tvm/libtvm.so(TVMFuncCall+0x5e) [0x7f7a2089f42e]\n[bt] (6) /home/tian/.conda/envs/tvm/lib/python3.7/lib-dynload/../../libffi.so.6(ffi_call_unix64+0x4c) [0x7f7aa2755ec0]\n[bt] (7) /home/tian/.conda/envs/tvm/lib/python3.7/lib-dynload/../../libffi.so.6(ffi_call+0x22d) [0x7f7aa275587d]\n[bt] (8) /home/tian/.conda/envs/tvm/lib/python3.7/lib-dynload/_ctypes.cpython-37m-x86_64-linux-gnu.so(_ctypes_callproc+0x2ce) [0x7f7aa296af8e]\n[bt] (9) /home/tian/.conda/envs/tvm/lib/python3.7/lib-dynload/_ctypes.cpython-37m-x86_64-linux-gnu.so(+0x129c4) [0x7f7aa296b9c4]\n\n\n\nStack trace returned 10 entries:\n[bt] (0) /home/tian/.conda/envs/tvm/lib/python3.7/site-packages/tvm-0.5.dev0-py3.7-linux-x86_64.egg/tvm/libtvm.so(dmlc::StackTrace[abi:cxx11]()+0x5b) [0x7f7a204782bb]\n[bt] (1) /home/tian/.conda/envs/tvm/lib/python3.7/site-packages/tvm-0.5.dev0-py3.7-linux-x86_64.egg/tvm/libtvm.so(dmlc::LogMessageFatal::~LogMessageFatal()+0x28) [0x7f7a20478b28]\n[bt] (2) /home/tian/.conda/envs/tvm/lib/python3.7/site-packages/tvm-0.5.dev0-py3.7-linux-x86_64.egg/tvm/libtvm.so(tvm::runtime::GraphRuntime::SetInput(int, DLTensor*)+0x191) [0x7f7a208d37d1]\n[bt] (3) /home/tian/.conda/envs/tvm/lib/python3.7/site-packages/tvm-0.5.dev0-py3.7-linux-x86_64.egg/tvm/libtvm.so(+0x6484a6) [0x7f7a208ce4a6]\n[bt] (4) /home/tian/.conda/envs/tvm/lib/python3.7/site-packages/tvm-0.5.dev0-py3.7-linux-x86_64.egg/tvm/libtvm.so(TVMFuncCall+0x5e) [0x7f7a2089f42e]\n[bt] (5) /home/tian/.conda/envs/tvm/lib/python3.7/lib-dynload/../../libffi.so.6(ffi_call_unix64+0x4c) [0x7f7aa2755ec0]\n[bt] (6) /home/tian/.conda/envs/tvm/lib/python3.7/lib-dynload/../../libffi.so.6(ffi_call+0x22d) [0x7f7aa275587d]\n[bt] (7) /home/tian/.conda/envs/tvm/lib/python3.7/lib-dynload/_ctypes.cpython-37m-x86_64-linux-gnu.so(_ctypes_callproc+0x2ce) [0x7f7aa296af8e]\n[bt] (8) /home/tian/.conda/envs/tvm/lib/python3.7/lib-dynload/_ctypes.cpython-37m-x86_64-linux-gnu.so(+0x129c4) [0x7f7aa296b9c4]\n[bt] (9) /home/tian/.conda/envs/tvm/bin/python(_PyObject_FastCallKeywords+0x49b) [0x55ec1f10c11b]\n\n"
     ]
    }
   ],
   "source": [
    "module.set_input(\"data1\", np.zeros((1, 5)).astype('int8'))\n",
    "module.set_input(\"data2\", np.zeros((1, 5)).astype('int8'))\n",
    "module.set_input(**params)\n",
    "module.run()"
   ]
  },
  {
   "cell_type": "code",
   "execution_count": 29,
   "metadata": {},
   "outputs": [
    {
     "ename": "TVMError",
     "evalue": "[17:34:23] /home/tian/tvm/src/runtime/graph/graph_runtime.cc:123: Check failed: ret == 0 (-1 vs. 0) [17:34:23] /home/tian/tvm/src/runtime/ndarray.cc:157: Check failed: from_size == to_size (20 vs. 5) TVMArrayCopyFromTo: The size must exactly match\n\nStack trace returned 10 entries:\n[bt] (0) /home/tian/.conda/envs/tvm/lib/python3.7/site-packages/tvm-0.5.dev0-py3.7-linux-x86_64.egg/tvm/libtvm.so(dmlc::StackTrace[abi:cxx11]()+0x5b) [0x7f7a204782bb]\n[bt] (1) /home/tian/.conda/envs/tvm/lib/python3.7/site-packages/tvm-0.5.dev0-py3.7-linux-x86_64.egg/tvm/libtvm.so(tvm::runtime::NDArray::CopyFromTo(DLTensor*, DLTensor*, void*)+0x6e7) [0x7f7a20892867]\n[bt] (2) /home/tian/.conda/envs/tvm/lib/python3.7/site-packages/tvm-0.5.dev0-py3.7-linux-x86_64.egg/tvm/libtvm.so(TVMArrayCopyFromTo+0x6) [0x7f7a20892fa6]\n[bt] (3) /home/tian/.conda/envs/tvm/lib/python3.7/site-packages/tvm-0.5.dev0-py3.7-linux-x86_64.egg/tvm/libtvm.so(tvm::runtime::GraphRuntime::GetOutput(int, DLTensor*)+0x11c) [0x7f7a208d396c]\n[bt] (4) /home/tian/.conda/envs/tvm/lib/python3.7/site-packages/tvm-0.5.dev0-py3.7-linux-x86_64.egg/tvm/libtvm.so(+0x648558) [0x7f7a208ce558]\n[bt] (5) /home/tian/.conda/envs/tvm/lib/python3.7/site-packages/tvm-0.5.dev0-py3.7-linux-x86_64.egg/tvm/libtvm.so(TVMFuncCall+0x5e) [0x7f7a2089f42e]\n[bt] (6) /home/tian/.conda/envs/tvm/lib/python3.7/lib-dynload/../../libffi.so.6(ffi_call_unix64+0x4c) [0x7f7aa2755ec0]\n[bt] (7) /home/tian/.conda/envs/tvm/lib/python3.7/lib-dynload/../../libffi.so.6(ffi_call+0x22d) [0x7f7aa275587d]\n[bt] (8) /home/tian/.conda/envs/tvm/lib/python3.7/lib-dynload/_ctypes.cpython-37m-x86_64-linux-gnu.so(_ctypes_callproc+0x2ce) [0x7f7aa296af8e]\n[bt] (9) /home/tian/.conda/envs/tvm/lib/python3.7/lib-dynload/_ctypes.cpython-37m-x86_64-linux-gnu.so(+0x129c4) [0x7f7aa296b9c4]\n\n\n\nStack trace returned 10 entries:\n[bt] (0) /home/tian/.conda/envs/tvm/lib/python3.7/site-packages/tvm-0.5.dev0-py3.7-linux-x86_64.egg/tvm/libtvm.so(dmlc::StackTrace[abi:cxx11]()+0x5b) [0x7f7a204782bb]\n[bt] (1) /home/tian/.conda/envs/tvm/lib/python3.7/site-packages/tvm-0.5.dev0-py3.7-linux-x86_64.egg/tvm/libtvm.so(dmlc::LogMessageFatal::~LogMessageFatal()+0x28) [0x7f7a20478b28]\n[bt] (2) /home/tian/.conda/envs/tvm/lib/python3.7/site-packages/tvm-0.5.dev0-py3.7-linux-x86_64.egg/tvm/libtvm.so(tvm::runtime::GraphRuntime::GetOutput(int, DLTensor*)+0x1b1) [0x7f7a208d3a01]\n[bt] (3) /home/tian/.conda/envs/tvm/lib/python3.7/site-packages/tvm-0.5.dev0-py3.7-linux-x86_64.egg/tvm/libtvm.so(+0x648558) [0x7f7a208ce558]\n[bt] (4) /home/tian/.conda/envs/tvm/lib/python3.7/site-packages/tvm-0.5.dev0-py3.7-linux-x86_64.egg/tvm/libtvm.so(TVMFuncCall+0x5e) [0x7f7a2089f42e]\n[bt] (5) /home/tian/.conda/envs/tvm/lib/python3.7/lib-dynload/../../libffi.so.6(ffi_call_unix64+0x4c) [0x7f7aa2755ec0]\n[bt] (6) /home/tian/.conda/envs/tvm/lib/python3.7/lib-dynload/../../libffi.so.6(ffi_call+0x22d) [0x7f7aa275587d]\n[bt] (7) /home/tian/.conda/envs/tvm/lib/python3.7/lib-dynload/_ctypes.cpython-37m-x86_64-linux-gnu.so(_ctypes_callproc+0x2ce) [0x7f7aa296af8e]\n[bt] (8) /home/tian/.conda/envs/tvm/lib/python3.7/lib-dynload/_ctypes.cpython-37m-x86_64-linux-gnu.so(+0x129c4) [0x7f7aa296b9c4]\n[bt] (9) /home/tian/.conda/envs/tvm/bin/python(_PyObject_FastCallKeywords+0x49b) [0x55ec1f10c11b]\n\n",
     "output_type": "error",
     "traceback": [
      "\u001b[0;31m---------------------------------------------------------------------------\u001b[0m",
      "\u001b[0;31mTVMError\u001b[0m                                  Traceback (most recent call last)",
      "\u001b[0;32m<ipython-input-29-34440aad21f6>\u001b[0m in \u001b[0;36m<module>\u001b[0;34m()\u001b[0m\n\u001b[0;32m----> 1\u001b[0;31m \u001b[0mmodule\u001b[0m\u001b[0;34m.\u001b[0m\u001b[0mget_output\u001b[0m\u001b[0;34m(\u001b[0m\u001b[0;36m0\u001b[0m\u001b[0;34m,\u001b[0m \u001b[0mtvm\u001b[0m\u001b[0;34m.\u001b[0m\u001b[0mnd\u001b[0m\u001b[0;34m.\u001b[0m\u001b[0mempty\u001b[0m\u001b[0;34m(\u001b[0m\u001b[0;34m(\u001b[0m\u001b[0;36m1\u001b[0m\u001b[0;34m,\u001b[0m \u001b[0;36m5\u001b[0m\u001b[0;34m)\u001b[0m\u001b[0;34m,\u001b[0m \u001b[0mdtype\u001b[0m\u001b[0;34m=\u001b[0m\u001b[0;34m'int8'\u001b[0m\u001b[0;34m)\u001b[0m\u001b[0;34m)\u001b[0m\u001b[0;34m\u001b[0m\u001b[0m\n\u001b[0m",
      "\u001b[0;32m~/.conda/envs/tvm/lib/python3.7/site-packages/tvm-0.5.dev0-py3.7-linux-x86_64.egg/tvm/contrib/graph_runtime.py\u001b[0m in \u001b[0;36mget_output\u001b[0;34m(self, index, out)\u001b[0m\n\u001b[1;32m    138\u001b[0m             \u001b[0mThe\u001b[0m \u001b[0moutput\u001b[0m \u001b[0marray\u001b[0m \u001b[0mcontainer\u001b[0m\u001b[0;34m\u001b[0m\u001b[0m\n\u001b[1;32m    139\u001b[0m         \"\"\"\n\u001b[0;32m--> 140\u001b[0;31m         \u001b[0mself\u001b[0m\u001b[0;34m.\u001b[0m\u001b[0m_get_output\u001b[0m\u001b[0;34m(\u001b[0m\u001b[0mindex\u001b[0m\u001b[0;34m,\u001b[0m \u001b[0mout\u001b[0m\u001b[0;34m)\u001b[0m\u001b[0;34m\u001b[0m\u001b[0m\n\u001b[0m\u001b[1;32m    141\u001b[0m         \u001b[0;32mreturn\u001b[0m \u001b[0mout\u001b[0m\u001b[0;34m\u001b[0m\u001b[0m\n\u001b[1;32m    142\u001b[0m \u001b[0;34m\u001b[0m\u001b[0m\n",
      "\u001b[0;32m~/.conda/envs/tvm/lib/python3.7/site-packages/tvm-0.5.dev0-py3.7-linux-x86_64.egg/tvm/_ffi/_ctypes/function.py\u001b[0m in \u001b[0;36m__call__\u001b[0;34m(self, *args)\u001b[0m\n\u001b[1;32m    182\u001b[0m         check_call(_LIB.TVMFuncCall(\n\u001b[1;32m    183\u001b[0m             \u001b[0mself\u001b[0m\u001b[0;34m.\u001b[0m\u001b[0mhandle\u001b[0m\u001b[0;34m,\u001b[0m \u001b[0mvalues\u001b[0m\u001b[0;34m,\u001b[0m \u001b[0mtcodes\u001b[0m\u001b[0;34m,\u001b[0m \u001b[0mctypes\u001b[0m\u001b[0;34m.\u001b[0m\u001b[0mc_int\u001b[0m\u001b[0;34m(\u001b[0m\u001b[0mnum_args\u001b[0m\u001b[0;34m)\u001b[0m\u001b[0;34m,\u001b[0m\u001b[0;34m\u001b[0m\u001b[0m\n\u001b[0;32m--> 184\u001b[0;31m             ctypes.byref(ret_val), ctypes.byref(ret_tcode)))\n\u001b[0m\u001b[1;32m    185\u001b[0m         \u001b[0m_\u001b[0m \u001b[0;34m=\u001b[0m \u001b[0mtemp_args\u001b[0m\u001b[0;34m\u001b[0m\u001b[0m\n\u001b[1;32m    186\u001b[0m         \u001b[0m_\u001b[0m \u001b[0;34m=\u001b[0m \u001b[0margs\u001b[0m\u001b[0;34m\u001b[0m\u001b[0m\n",
      "\u001b[0;32m~/.conda/envs/tvm/lib/python3.7/site-packages/tvm-0.5.dev0-py3.7-linux-x86_64.egg/tvm/_ffi/base.py\u001b[0m in \u001b[0;36mcheck_call\u001b[0;34m(ret)\u001b[0m\n\u001b[1;32m     64\u001b[0m     \"\"\"\n\u001b[1;32m     65\u001b[0m     \u001b[0;32mif\u001b[0m \u001b[0mret\u001b[0m \u001b[0;34m!=\u001b[0m \u001b[0;36m0\u001b[0m\u001b[0;34m:\u001b[0m\u001b[0;34m\u001b[0m\u001b[0m\n\u001b[0;32m---> 66\u001b[0;31m         \u001b[0;32mraise\u001b[0m \u001b[0mTVMError\u001b[0m\u001b[0;34m(\u001b[0m\u001b[0mpy_str\u001b[0m\u001b[0;34m(\u001b[0m\u001b[0m_LIB\u001b[0m\u001b[0;34m.\u001b[0m\u001b[0mTVMGetLastError\u001b[0m\u001b[0;34m(\u001b[0m\u001b[0;34m)\u001b[0m\u001b[0;34m)\u001b[0m\u001b[0;34m)\u001b[0m\u001b[0;34m\u001b[0m\u001b[0m\n\u001b[0m\u001b[1;32m     67\u001b[0m \u001b[0;34m\u001b[0m\u001b[0m\n\u001b[1;32m     68\u001b[0m \u001b[0;34m\u001b[0m\u001b[0m\n",
      "\u001b[0;31mTVMError\u001b[0m: [17:34:23] /home/tian/tvm/src/runtime/graph/graph_runtime.cc:123: Check failed: ret == 0 (-1 vs. 0) [17:34:23] /home/tian/tvm/src/runtime/ndarray.cc:157: Check failed: from_size == to_size (20 vs. 5) TVMArrayCopyFromTo: The size must exactly match\n\nStack trace returned 10 entries:\n[bt] (0) /home/tian/.conda/envs/tvm/lib/python3.7/site-packages/tvm-0.5.dev0-py3.7-linux-x86_64.egg/tvm/libtvm.so(dmlc::StackTrace[abi:cxx11]()+0x5b) [0x7f7a204782bb]\n[bt] (1) /home/tian/.conda/envs/tvm/lib/python3.7/site-packages/tvm-0.5.dev0-py3.7-linux-x86_64.egg/tvm/libtvm.so(tvm::runtime::NDArray::CopyFromTo(DLTensor*, DLTensor*, void*)+0x6e7) [0x7f7a20892867]\n[bt] (2) /home/tian/.conda/envs/tvm/lib/python3.7/site-packages/tvm-0.5.dev0-py3.7-linux-x86_64.egg/tvm/libtvm.so(TVMArrayCopyFromTo+0x6) [0x7f7a20892fa6]\n[bt] (3) /home/tian/.conda/envs/tvm/lib/python3.7/site-packages/tvm-0.5.dev0-py3.7-linux-x86_64.egg/tvm/libtvm.so(tvm::runtime::GraphRuntime::GetOutput(int, DLTensor*)+0x11c) [0x7f7a208d396c]\n[bt] (4) /home/tian/.conda/envs/tvm/lib/python3.7/site-packages/tvm-0.5.dev0-py3.7-linux-x86_64.egg/tvm/libtvm.so(+0x648558) [0x7f7a208ce558]\n[bt] (5) /home/tian/.conda/envs/tvm/lib/python3.7/site-packages/tvm-0.5.dev0-py3.7-linux-x86_64.egg/tvm/libtvm.so(TVMFuncCall+0x5e) [0x7f7a2089f42e]\n[bt] (6) /home/tian/.conda/envs/tvm/lib/python3.7/lib-dynload/../../libffi.so.6(ffi_call_unix64+0x4c) [0x7f7aa2755ec0]\n[bt] (7) /home/tian/.conda/envs/tvm/lib/python3.7/lib-dynload/../../libffi.so.6(ffi_call+0x22d) [0x7f7aa275587d]\n[bt] (8) /home/tian/.conda/envs/tvm/lib/python3.7/lib-dynload/_ctypes.cpython-37m-x86_64-linux-gnu.so(_ctypes_callproc+0x2ce) [0x7f7aa296af8e]\n[bt] (9) /home/tian/.conda/envs/tvm/lib/python3.7/lib-dynload/_ctypes.cpython-37m-x86_64-linux-gnu.so(+0x129c4) [0x7f7aa296b9c4]\n\n\n\nStack trace returned 10 entries:\n[bt] (0) /home/tian/.conda/envs/tvm/lib/python3.7/site-packages/tvm-0.5.dev0-py3.7-linux-x86_64.egg/tvm/libtvm.so(dmlc::StackTrace[abi:cxx11]()+0x5b) [0x7f7a204782bb]\n[bt] (1) /home/tian/.conda/envs/tvm/lib/python3.7/site-packages/tvm-0.5.dev0-py3.7-linux-x86_64.egg/tvm/libtvm.so(dmlc::LogMessageFatal::~LogMessageFatal()+0x28) [0x7f7a20478b28]\n[bt] (2) /home/tian/.conda/envs/tvm/lib/python3.7/site-packages/tvm-0.5.dev0-py3.7-linux-x86_64.egg/tvm/libtvm.so(tvm::runtime::GraphRuntime::GetOutput(int, DLTensor*)+0x1b1) [0x7f7a208d3a01]\n[bt] (3) /home/tian/.conda/envs/tvm/lib/python3.7/site-packages/tvm-0.5.dev0-py3.7-linux-x86_64.egg/tvm/libtvm.so(+0x648558) [0x7f7a208ce558]\n[bt] (4) /home/tian/.conda/envs/tvm/lib/python3.7/site-packages/tvm-0.5.dev0-py3.7-linux-x86_64.egg/tvm/libtvm.so(TVMFuncCall+0x5e) [0x7f7a2089f42e]\n[bt] (5) /home/tian/.conda/envs/tvm/lib/python3.7/lib-dynload/../../libffi.so.6(ffi_call_unix64+0x4c) [0x7f7aa2755ec0]\n[bt] (6) /home/tian/.conda/envs/tvm/lib/python3.7/lib-dynload/../../libffi.so.6(ffi_call+0x22d) [0x7f7aa275587d]\n[bt] (7) /home/tian/.conda/envs/tvm/lib/python3.7/lib-dynload/_ctypes.cpython-37m-x86_64-linux-gnu.so(_ctypes_callproc+0x2ce) [0x7f7aa296af8e]\n[bt] (8) /home/tian/.conda/envs/tvm/lib/python3.7/lib-dynload/_ctypes.cpython-37m-x86_64-linux-gnu.so(+0x129c4) [0x7f7aa296b9c4]\n[bt] (9) /home/tian/.conda/envs/tvm/bin/python(_PyObject_FastCallKeywords+0x49b) [0x55ec1f10c11b]\n\n"
     ]
    }
   ],
   "source": [
    "module.get_output(0, tvm.nd.empty((1, 5), dtype='int8'))"
   ]
  },
  {
   "cell_type": "code",
   "execution_count": null,
   "metadata": {},
   "outputs": [],
   "source": []
  }
 ],
 "metadata": {
  "kernelspec": {
   "display_name": "Python 3",
   "language": "python",
   "name": "python3"
  },
  "language_info": {
   "codemirror_mode": {
    "name": "ipython",
    "version": 3
   },
   "file_extension": ".py",
   "mimetype": "text/x-python",
   "name": "python",
   "nbconvert_exporter": "python",
   "pygments_lexer": "ipython3",
   "version": "3.7.0"
  }
 },
 "nbformat": 4,
 "nbformat_minor": 2
}
